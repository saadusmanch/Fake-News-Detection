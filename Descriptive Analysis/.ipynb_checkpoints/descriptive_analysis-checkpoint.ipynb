{
 "cells": [
  {
   "cell_type": "code",
   "execution_count": 18,
   "metadata": {
    "collapsed": true
   },
   "outputs": [],
   "source": [
    "import pandas as pd\n",
    "import numpy as np\n",
    "import datetime as dt"
   ]
  },
  {
   "cell_type": "code",
   "execution_count": 9,
   "metadata": {},
   "outputs": [
    {
     "name": "stdout",
     "output_type": "stream",
     "text": [
      "d:\\Semester 6\\FIT3162\\Fakeddit\n"
     ]
    }
   ],
   "source": [
    "cd \"d:/Semester 6/FIT3162/Fakeddit\""
   ]
  },
  {
   "cell_type": "code",
   "execution_count": 49,
   "metadata": {
    "collapsed": true
   },
   "outputs": [],
   "source": [
    "def perform_statistics(df, clean=True):\n",
    "    \"\"\"\n",
    "    Clean (True) Dataset Refers to cleaned_df.csv dataset that has been processed\n",
    "    (False) refers to the raw dataset which is unprocessed.\n",
    "    \"\"\"\n",
    "    total = len(df)\n",
    "    fake_articles = len(df.loc[df['2_way_label'] == 0])\n",
    "    true_articles = len(df.loc[df['2_way_label'] == 1])\n",
    "    num_of_subreddits = df['subreddit'].nunique()\n",
    "    num_of_domains = df['domain'].nunique()\n",
    "    mean_comments = df['num_comments'].mean()\n",
    "    mean_title_len = df['title'].replace(np.nan, '').str.split().apply(len).mean()\n",
    "    if clean:\n",
    "        df['created_utc'] = pd.to_datetime(df['created_utc'])\n",
    "        min_date = min(df['created_utc'])\n",
    "        max_date = max(df['created_utc'])\n",
    "    else:\n",
    "        min_date = dt.datetime.fromtimestamp(min(df['created_utc']))\n",
    "        max_date = dt.datetime.fromtimestamp(max(df['created_utc']))\n",
    "\n",
    "    print(\"-\" * 30)\n",
    "    print(\"Total Samples:\", total)\n",
    "    print(\"-\" * 30)\n",
    "    print(\"Fake Samples:\", fake_articles)\n",
    "    print(\"-\" * 30)\n",
    "    print(\"True Samples:\", true_articles)\n",
    "    print(\"-\" * 30)\n",
    "    print(\"Unique Subreddits:\", num_of_subreddits)\n",
    "    print(\"-\" * 30)\n",
    "    print(\"Unique Domains:\", num_of_domains)\n",
    "    print(\"-\" * 30)\n",
    "    print(\"Mean No of Comments:\", mean_comments)\n",
    "    print(\"-\" * 30)\n",
    "    print(\"Mean Words in title:\", mean_title_len)\n",
    "    print(\"-\" * 30)\n",
    "    print(\"Min Creation Date:\", min_date)\n",
    "    print(\"-\" * 30)\n",
    "    print(\"Max Creation Date:\", max_date)\n",
    "    print(\"-\" * 30)\n"
   ]
  },
  {
   "cell_type": "code",
   "execution_count": 47,
   "metadata": {
    "collapsed": true
   },
   "outputs": [],
   "source": [
    "def check_comment_stats(df):\n",
    "    total = len(df)\n",
    "    unique_posts = df['submission_id'].nunique()\n",
    "    print(\"-\" * 30)\n",
    "    print(\"Total Comments:\", total)\n",
    "    print(\"-\" * 30)\n",
    "    print(\"Unique Posts with comments:\", unique_posts)\n",
    "    print(\"-\" * 30)"
   ]
  },
  {
   "cell_type": "code",
   "execution_count": 52,
   "metadata": {},
   "outputs": [
    {
     "name": "stdout",
     "output_type": "stream",
     "text": [
      "Descriptive Analysis\n",
      "------------------------------\n",
      "Total Comments: 4428085\n",
      "------------------------------\n",
      "Unique Posts with comments: 53265\n",
      "------------------------------\n"
     ]
    }
   ],
   "source": [
    "if __name__ == '__main__':\n",
    "    print(\"Descriptive Analysis\")\n",
    "    post_df = pd.read_csv(\"cleaned_df.csv\")\n",
    "#     perform_statistics(post_df)\n",
    "    comment_df = pd.read_csv(\"cleaned_comments.csv\")\n",
    "    check_comment_stats(comment_df)"
   ]
  },
  {
   "cell_type": "code",
   "execution_count": 13,
   "metadata": {},
   "outputs": [
    {
     "data": {
      "text/plain": [
       "'d:\\\\Semester 6\\\\FIT3162\\\\Fakeddit'"
      ]
     },
     "execution_count": 13,
     "metadata": {},
     "output_type": "execute_result"
    }
   ],
   "source": [
    "pwd"
   ]
  },
  {
   "cell_type": "code",
   "execution_count": null,
   "metadata": {},
   "outputs": [],
   "source": []
  },
  {
   "cell_type": "code",
   "execution_count": null,
   "metadata": {
    "collapsed": true
   },
   "outputs": [],
   "source": []
  }
 ],
 "metadata": {
  "kernelspec": {
   "display_name": "Python 3",
   "language": "python",
   "name": "python3"
  },
  "language_info": {
   "codemirror_mode": {
    "name": "ipython",
    "version": 3
   },
   "file_extension": ".py",
   "mimetype": "text/x-python",
   "name": "python",
   "nbconvert_exporter": "python",
   "pygments_lexer": "ipython3",
   "version": "3.7.6"
  }
 },
 "nbformat": 4,
 "nbformat_minor": 2
}
