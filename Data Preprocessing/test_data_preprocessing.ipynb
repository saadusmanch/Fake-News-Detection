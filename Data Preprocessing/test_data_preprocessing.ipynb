{
 "cells": [
  {
   "cell_type": "code",
   "execution_count": 1,
   "metadata": {},
   "outputs": [
    {
     "name": "stdout",
     "output_type": "stream",
     "text": [
      "D:\\University\\FIT3162\\Project\\Fake-News-Detection\\Data Preprocessing\n"
     ]
    }
   ],
   "source": [
    "cd \"D:\\University\\FIT3162\\Project\\Fake-News-Detection\\Data Preprocessing\""
   ]
  },
  {
   "cell_type": "code",
   "execution_count": 2,
   "metadata": {},
   "outputs": [],
   "source": [
    "import sys\n",
    "import os\n",
    "\n",
    "module_path = os.path.abspath(os.getcwd())    \n",
    "\n",
    "if module_path not in sys.path:       \n",
    "\n",
    "    sys.path.append(module_path)"
   ]
  },
  {
   "cell_type": "code",
   "execution_count": 3,
   "metadata": {},
   "outputs": [
    {
     "name": "stdout",
     "output_type": "stream",
     "text": [
      "importing Jupyter notebook from data_preprocessing1.ipynb\n"
     ]
    }
   ],
   "source": [
    "import unittest\n",
    "import pytest\n",
    "import pandas as pd\n",
    "import import_ipynb\n",
    "import data_preprocessing1\n",
    "import datetime as dt"
   ]
  },
  {
   "cell_type": "code",
   "execution_count": 5,
   "metadata": {},
   "outputs": [],
   "source": [
    "\n",
    "\n",
    "def test_remove_unwanted_columns():\n",
    "    remove_col = ['authors', 'sub_id']\n",
    "\n",
    "    author = ['daniel6','george33','mylife','simonsays','mrpreferred','silenceoflambs','yunzen','hammond']\n",
    "    user_id = ['200','215','345','786','555','200','300','908']\n",
    "    title = ['brain','','this is hard','not possible','ferry','brain','cat','end of world']\n",
    "    utc = ['1514784048','1490750889','1490751569','1490750889','1495080789','1478451048','1490751569','1490750889']\n",
    "    sub_reddit = ['pic','work','tough-calls','pic','games','zoo','animals','gif']\n",
    "    sub_id = ['3456','122345','283485504','2848595043','218384','287384','238843923','3747843']\n",
    "    body = ['nice one','cool','elaborate please','i see','alright','please?','[deleted]','[removed]']\n",
    "\n",
    "    df = pd.DataFrame(columns=['authors','id','title','created_utc','subreddit','sub_id','body'])\n",
    "    df['authors'] = author\n",
    "    df['id'] = user_id\n",
    "    df['title'] = title\n",
    "    df['created_utc'] = utc\n",
    "    df['subreddit'] = sub_reddit\n",
    "    df['sub_id'] = sub_id\n",
    "    df['body'] = body\n",
    "\n",
    "    df.to_csv('test_file.csv')\n",
    "\n",
    "    new_df = data_preprocessing1.remove_unwanted_columns(df, remove_col)\n",
    "    new_df.to_csv('test_file.csv',index=False)\n",
    "    assert len(new_df.columns) == 5, 'Removing unwanted columns test failed'"
   ]
  },
  {
   "cell_type": "code",
   "execution_count": 6,
   "metadata": {},
   "outputs": [],
   "source": [
    "def test_delete_duplicated_posts():\n",
    "    df = pd.read_csv('test_file.csv')\n",
    "    \n",
    "    new_df = data_preprocessing1.delete_duplicated_posts(df)\n",
    "    new_df.to_csv('test_file.csv',index=False)\n",
    "    assert new_df['id'].count() == 6, 'Removing duplicated columns test failed'"
   ]
  },
  {
   "cell_type": "code",
   "execution_count": 7,
   "metadata": {},
   "outputs": [],
   "source": [
    "def test_delete_empty_posts():\n",
    "    df = pd.read_csv('test_file.csv')\n",
    "    \n",
    "    new_df = data_preprocessing1.delete_empty_posts(df,subset_list=['title'])\n",
    "    new_df.to_csv('test_file.csv',index=False)\n",
    "    assert new_df['id'].count() == 5, 'Delete empty post columns test failed'"
   ]
  },
  {
   "cell_type": "code",
   "execution_count": 8,
   "metadata": {},
   "outputs": [],
   "source": [
    "def test_remove_subreddits():\n",
    "    df = pd.read_csv('test_file.csv')\n",
    "    \n",
    "    new_df = data_preprocessing1.remove_subreddits(df)\n",
    "    new_df.to_csv('test_file.csv',index=False)\n",
    "    assert new_df['id'].count() == 4, 'Remove subreddits test failed'"
   ]
  },
  {
   "cell_type": "code",
   "execution_count": 11,
   "metadata": {},
   "outputs": [],
   "source": [
    "def test_change_date():\n",
    "    df = pd.read_csv('test_file.csv')\n",
    "    \n",
    "    new_df = data_preprocessing1.change_date(df)\n",
    "    new_df.to_csv('test_file.csv',index=False)\n",
    "    print(new_df['created_utc'][0])\n",
    "    assert new_df.iloc[0]['created_utc'] == '22/3/2018 22:36' , 'Change UTC test failed'"
   ]
  },
  {
   "cell_type": "code",
   "execution_count": 12,
   "metadata": {},
   "outputs": [],
   "source": [
    "def test_delete_removed_comments():\n",
    "    df = pd.read_csv('test_file.csv')\n",
    "    \n",
    "    new_df = data_preprocessing1.delete_removed_comments(df)\n",
    "    new_df.to_csv('test_file.csv',index=False)\n",
    "    assert new_df['id'].count() == 2, 'Delete removed comments test failed'"
   ]
  },
  {
   "cell_type": "code",
   "execution_count": 13,
   "metadata": {},
   "outputs": [
    {
     "name": "stdout",
     "output_type": "stream",
     "text": [
      "Output Done\n",
      "2017-03-29 09:39:29\n"
     ]
    },
    {
     "ename": "AssertionError",
     "evalue": "Change UTC test failed",
     "output_type": "error",
     "traceback": [
      "\u001b[1;31m---------------------------------------------------------------------------\u001b[0m",
      "\u001b[1;31mAssertionError\u001b[0m                            Traceback (most recent call last)",
      "\u001b[1;32m<ipython-input-13-bd26b6030bf5>\u001b[0m in \u001b[0;36m<module>\u001b[1;34m\u001b[0m\n\u001b[0;32m      6\u001b[0m     \u001b[0mtest_delete_empty_posts\u001b[0m\u001b[1;33m(\u001b[0m\u001b[1;33m)\u001b[0m\u001b[1;33m\u001b[0m\u001b[1;33m\u001b[0m\u001b[0m\n\u001b[0;32m      7\u001b[0m     \u001b[0mtest_remove_subreddits\u001b[0m\u001b[1;33m(\u001b[0m\u001b[1;33m)\u001b[0m\u001b[1;33m\u001b[0m\u001b[1;33m\u001b[0m\u001b[0m\n\u001b[1;32m----> 8\u001b[1;33m     \u001b[0mtest_change_date\u001b[0m\u001b[1;33m(\u001b[0m\u001b[1;33m)\u001b[0m\u001b[1;33m\u001b[0m\u001b[1;33m\u001b[0m\u001b[0m\n\u001b[0m\u001b[0;32m      9\u001b[0m     \u001b[0mtest_delete_removed_comments\u001b[0m\u001b[1;33m(\u001b[0m\u001b[1;33m)\u001b[0m\u001b[1;33m\u001b[0m\u001b[1;33m\u001b[0m\u001b[0m\n\u001b[0;32m     10\u001b[0m     \u001b[1;31m#unittest.main(argv=['first-arg-is-ignored for jupyter'], exit=False)\u001b[0m\u001b[1;33m\u001b[0m\u001b[1;33m\u001b[0m\u001b[1;33m\u001b[0m\u001b[0m\n",
      "\u001b[1;32m<ipython-input-11-13c6759792c8>\u001b[0m in \u001b[0;36mtest_change_date\u001b[1;34m()\u001b[0m\n\u001b[0;32m      5\u001b[0m     \u001b[0mnew_df\u001b[0m\u001b[1;33m.\u001b[0m\u001b[0mto_csv\u001b[0m\u001b[1;33m(\u001b[0m\u001b[1;34m'test_file.csv'\u001b[0m\u001b[1;33m,\u001b[0m\u001b[0mindex\u001b[0m\u001b[1;33m=\u001b[0m\u001b[1;32mFalse\u001b[0m\u001b[1;33m)\u001b[0m\u001b[1;33m\u001b[0m\u001b[1;33m\u001b[0m\u001b[0m\n\u001b[0;32m      6\u001b[0m     \u001b[0mprint\u001b[0m\u001b[1;33m(\u001b[0m\u001b[0mnew_df\u001b[0m\u001b[1;33m[\u001b[0m\u001b[1;34m'created_utc'\u001b[0m\u001b[1;33m]\u001b[0m\u001b[1;33m[\u001b[0m\u001b[1;36m0\u001b[0m\u001b[1;33m]\u001b[0m\u001b[1;33m)\u001b[0m\u001b[1;33m\u001b[0m\u001b[1;33m\u001b[0m\u001b[0m\n\u001b[1;32m----> 7\u001b[1;33m     \u001b[1;32massert\u001b[0m \u001b[0mnew_df\u001b[0m\u001b[1;33m.\u001b[0m\u001b[0miloc\u001b[0m\u001b[1;33m[\u001b[0m\u001b[1;36m0\u001b[0m\u001b[1;33m]\u001b[0m\u001b[1;33m[\u001b[0m\u001b[1;34m'created_utc'\u001b[0m\u001b[1;33m]\u001b[0m \u001b[1;33m==\u001b[0m \u001b[1;34m'22/3/2018 22:36'\u001b[0m \u001b[1;33m,\u001b[0m \u001b[1;34m'Change UTC test failed'\u001b[0m\u001b[1;33m\u001b[0m\u001b[1;33m\u001b[0m\u001b[0m\n\u001b[0m",
      "\u001b[1;31mAssertionError\u001b[0m: Change UTC test failed"
     ]
    }
   ],
   "source": [
    "if __name__ == '__main__':\n",
    "    print(\"Output Done\")\n",
    "    \n",
    "    test_remove_unwanted_columns()\n",
    "    test_delete_duplicated_posts()\n",
    "    test_delete_empty_posts()\n",
    "    test_remove_subreddits()\n",
    "    #test_change_date()\n",
    "    test_delete_removed_comments()\n",
    "    #unittest.main(argv=['first-arg-is-ignored for jupyter'], exit=False)"
   ]
  },
  {
   "cell_type": "code",
   "execution_count": null,
   "metadata": {},
   "outputs": [],
   "source": []
  }
 ],
 "metadata": {
  "kernelspec": {
   "display_name": "Python 3",
   "language": "python",
   "name": "python3"
  },
  "language_info": {
   "codemirror_mode": {
    "name": "ipython",
    "version": 3
   },
   "file_extension": ".py",
   "mimetype": "text/x-python",
   "name": "python",
   "nbconvert_exporter": "python",
   "pygments_lexer": "ipython3",
   "version": "3.7.6"
  }
 },
 "nbformat": 4,
 "nbformat_minor": 4
}
