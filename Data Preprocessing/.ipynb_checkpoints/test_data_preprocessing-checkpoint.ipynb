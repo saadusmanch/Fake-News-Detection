{
 "cells": [
  {
   "cell_type": "code",
   "execution_count": 1,
   "metadata": {},
   "outputs": [
    {
     "name": "stdout",
     "output_type": "stream",
     "text": [
      "D:\\University\\FIT3162\\Project\\Fake-News-Detection\\Data Preprocessing\n"
     ]
    }
   ],
   "source": [
    "cd \"D:\\University\\FIT3162\\Project\\Fake-News-Detection\\Data Preprocessing\""
   ]
  },
  {
   "cell_type": "code",
   "execution_count": 2,
   "metadata": {},
   "outputs": [],
   "source": [
    "import sys\n",
    "import os\n",
    "\n",
    "module_path = os.path.abspath(os.getcwd())    \n",
    "\n",
    "if module_path not in sys.path:       \n",
    "\n",
    "    sys.path.append(module_path)"
   ]
  },
  {
   "cell_type": "code",
   "execution_count": 116,
   "metadata": {},
   "outputs": [],
   "source": [
    "import unittest\n",
    "import pandas as pd\n",
    "import pytest\n",
    "import import_ipynb\n",
    "import data_preprocessing1\n",
    "import datetime as dt"
   ]
  },
  {
   "cell_type": "code",
   "execution_count": 126,
   "metadata": {},
   "outputs": [],
   "source": [
    "\n",
    "\n",
    "def test_remove_unwanted_columns():\n",
    "    remove_col = ['authors', 'sub_id']\n",
    "\n",
    "    author = ['daniel6','george33','mylife','simonsays','mrpreferred','silenceoflambs','yunzen','hammond']\n",
    "    user_id = ['200','215','345','786','555','200','300','908']\n",
    "    title = ['brain','','this is hard','not possible','ferry','brain','cat','end of world']\n",
    "    utc = ['1514784048','1490750889','1490751569','1490750889','1495080789','1478451048','1490751569','1490750889']\n",
    "    sub_reddit = ['pic','work','tough-calls','pic','games','zoo','animals','gif']\n",
    "    sub_id = ['3456','122345','283485504','2848595043','218384','287384','238843923','3747843']\n",
    "    body = ['nice one','cool','elaborate please','i see','alright','please?','[deleted]','[removed]']\n",
    "\n",
    "    df = pd.DataFrame(columns=['authors','id','title','created_utc','subreddit','sub_id','body'])\n",
    "    df['authors'] = author\n",
    "    df['id'] = user_id\n",
    "    df['title'] = title\n",
    "    df['created_utc'] = utc\n",
    "    df['subreddit'] = sub_reddit\n",
    "    df['sub_id'] = sub_id\n",
    "    df['body'] = body\n",
    "\n",
    "    df.to_csv('test_file.csv')\n",
    "\n",
    "    new_df = data_preprocessing1.remove_unwanted_columns(df, remove_col)\n",
    "    new_df.to_csv('test_file.csv',index=False)\n",
    "    assert len(new_df.columns) == 5, 'Removing unwanted columns test failed'\n",
    "        \n",
    "    \n",
    "    \n",
    "    \n",
    "    "
   ]
  },
  {
   "cell_type": "code",
   "execution_count": 128,
   "metadata": {},
   "outputs": [],
   "source": [
    "def test_delete_duplicated_posts():\n",
    "    df = pd.read_csv('test_file.csv')\n",
    "    \n",
    "    new_df = data_preprocessing1.delete_duplicated_posts(df)\n",
    "    new_df.to_csv('test_file.csv',index=False)\n",
    "    assert new_df['id'].count() == 6, 'Removing duplicated columns test failed'"
   ]
  },
  {
   "cell_type": "code",
   "execution_count": 130,
   "metadata": {},
   "outputs": [],
   "source": [
    "def test_delete_empty_posts():\n",
    "    df = pd.read_csv('test_file.csv')\n",
    "    \n",
    "    new_df = data_preprocessing1.delete_empty_posts(df,subset_list=['title'])\n",
    "    new_df.to_csv('test_file.csv',index=False)\n",
    "    assert new_df['id'].count() == 5, 'Delete empty post columns test failed'"
   ]
  },
  {
   "cell_type": "code",
   "execution_count": 131,
   "metadata": {},
   "outputs": [],
   "source": [
    "def test_remove_subreddits():\n",
    "    df = pd.read_csv('test_file.csv')\n",
    "    \n",
    "    new_df = data_preprocessing1.remove_subreddits(df)\n",
    "    new_df.to_csv('test_file.csv',index=False)\n",
    "    assert new_df['id'].count() == 4, 'Remove subreddits test failed'"
   ]
  },
  {
   "cell_type": "code",
   "execution_count": 122,
   "metadata": {},
   "outputs": [],
   "source": [
    "def test_change_date():\n",
    "    df = pd.read_csv('test_file.csv')\n",
    "    \n",
    "    new_df = data_preprocessing1.change_date(df)\n",
    "    new_df.to_csv('test_file.csv',index=False)\n",
    "    print(new_df['created_utc'][0])\n",
    "    assert new_df['created_utc'][0] == '29/3/2017 9:39' , 'Change UTC test failed'"
   ]
  },
  {
   "cell_type": "code",
   "execution_count": 133,
   "metadata": {},
   "outputs": [],
   "source": [
    "def test_delete_removed_comments():\n",
    "    df = pd.read_csv('test_file.csv')\n",
    "    \n",
    "    new_df = data_preprocessing1.delete_removed_comments(df)\n",
    "    new_df.to_csv('test_file.csv',index=False)\n",
    "    assert new_df['id'].count() == 2, 'Delete removed comments test failed'"
   ]
  },
  {
   "cell_type": "code",
   "execution_count": 134,
   "metadata": {},
   "outputs": [
    {
     "name": "stdout",
     "output_type": "stream",
     "text": [
      "Output Done\n"
     ]
    }
   ],
   "source": [
    "if __name__ == '__main__':\n",
    "    print(\"Output Done\")\n",
    "    \n",
    "    test_remove_unwanted_columns()\n",
    "    test_delete_duplicated_posts()\n",
    "    test_delete_empty_posts()\n",
    "    test_remove_subreddits()\n",
    "    #test_change_date()\n",
    "    test_delete_removed_comments()\n",
    "    #unittest.main(argv=['first-arg-is-ignored for jupyter'], exit=False)"
   ]
  },
  {
   "cell_type": "code",
   "execution_count": null,
   "metadata": {},
   "outputs": [],
   "source": []
  }
 ],
 "metadata": {
  "kernelspec": {
   "display_name": "Python 3",
   "language": "python",
   "name": "python3"
  },
  "language_info": {
   "codemirror_mode": {
    "name": "ipython",
    "version": 3
   },
   "file_extension": ".py",
   "mimetype": "text/x-python",
   "name": "python",
   "nbconvert_exporter": "python",
   "pygments_lexer": "ipython3",
   "version": "3.7.6"
  }
 },
 "nbformat": 4,
 "nbformat_minor": 4
}
