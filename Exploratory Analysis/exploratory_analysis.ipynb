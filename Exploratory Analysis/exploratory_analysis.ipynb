{
 "cells": [
  {
   "cell_type": "markdown",
   "metadata": {},
   "source": [
    "### FIT3162 Exploratory Analysis \n",
    "#### Fakeddit Fakenews Dataset"
   ]
  },
  {
   "cell_type": "code",
   "execution_count": 38,
   "metadata": {
    "collapsed": true
   },
   "outputs": [],
   "source": [
    "import pandas as pd\n",
    "import numpy as np\n",
    "import datetime as dt\n",
    "import nltk\n",
    "import matplotlib.pyplot as plt\n",
    "from nltk.corpus import stopwords\n",
    "from collections import Counter\n",
    "import csv"
   ]
  },
  {
   "cell_type": "code",
   "execution_count": 39,
   "metadata": {},
   "outputs": [
    {
     "name": "stdout",
     "output_type": "stream",
     "text": [
      "D:\\Semester 6\\FIT3162\\Fakeddit\n"
     ]
    }
   ],
   "source": [
    "cd D:\\Semester 6\\FIT3162\\Fakeddit"
   ]
  },
  {
   "cell_type": "code",
   "execution_count": 40,
   "metadata": {},
   "outputs": [
    {
     "data": {
      "text/plain": [
       "'D:\\\\Semester 6\\\\FIT3162\\\\Fakeddit'"
      ]
     },
     "execution_count": 40,
     "metadata": {},
     "output_type": "execute_result"
    }
   ],
   "source": [
    "pwd"
   ]
  },
  {
   "cell_type": "code",
   "execution_count": 41,
   "metadata": {
    "collapsed": true
   },
   "outputs": [],
   "source": [
    "train_df = pd.read_csv(\"datasetv2/datasetv2.0/train.tsv\", sep='\\t')"
   ]
  },
  {
   "cell_type": "code",
   "execution_count": 42,
   "metadata": {},
   "outputs": [
    {
     "data": {
      "text/html": [
       "<div>\n",
       "<style>\n",
       "    .dataframe thead tr:only-child th {\n",
       "        text-align: right;\n",
       "    }\n",
       "\n",
       "    .dataframe thead th {\n",
       "        text-align: left;\n",
       "    }\n",
       "\n",
       "    .dataframe tbody tr th {\n",
       "        vertical-align: top;\n",
       "    }\n",
       "</style>\n",
       "<table border=\"1\" class=\"dataframe\">\n",
       "  <thead>\n",
       "    <tr style=\"text-align: right;\">\n",
       "      <th></th>\n",
       "      <th>Unnamed: 0</th>\n",
       "      <th>Unnamed: 0.1</th>\n",
       "      <th>Unnamed: 0.1.1</th>\n",
       "      <th>Unnamed: 0.1.1</th>\n",
       "      <th>author</th>\n",
       "      <th>clean_title</th>\n",
       "      <th>created_utc</th>\n",
       "      <th>domain</th>\n",
       "      <th>hasImage</th>\n",
       "      <th>id</th>\n",
       "      <th>image_url</th>\n",
       "      <th>linked_submission_id</th>\n",
       "      <th>num_comments</th>\n",
       "      <th>score</th>\n",
       "      <th>subreddit</th>\n",
       "      <th>title</th>\n",
       "      <th>upvote_ratio</th>\n",
       "      <th>2_way_label</th>\n",
       "      <th>3_way_label</th>\n",
       "      <th>6_way_label</th>\n",
       "    </tr>\n",
       "  </thead>\n",
       "  <tbody>\n",
       "    <tr>\n",
       "      <th>0</th>\n",
       "      <td>0</td>\n",
       "      <td>0</td>\n",
       "      <td>NaN</td>\n",
       "      <td>NaN</td>\n",
       "      <td>Alexithymia</td>\n",
       "      <td>my walgreens offbrand mucinex was engraved wit...</td>\n",
       "      <td>1.551641e+09</td>\n",
       "      <td>i.imgur.com</td>\n",
       "      <td>True</td>\n",
       "      <td>awxhir</td>\n",
       "      <td>https://external-preview.redd.it/WylDbZrnbvZdB...</td>\n",
       "      <td>NaN</td>\n",
       "      <td>2.0</td>\n",
       "      <td>12</td>\n",
       "      <td>mildlyinteresting</td>\n",
       "      <td>My Walgreens offbrand Mucinex was engraved wit...</td>\n",
       "      <td>0.84</td>\n",
       "      <td>1</td>\n",
       "      <td>0</td>\n",
       "      <td>0</td>\n",
       "    </tr>\n",
       "    <tr>\n",
       "      <th>1</th>\n",
       "      <td>1</td>\n",
       "      <td>1</td>\n",
       "      <td>714550.0</td>\n",
       "      <td>714550.0</td>\n",
       "      <td>RickSisco</td>\n",
       "      <td>NaN</td>\n",
       "      <td>1.443822e+09</td>\n",
       "      <td>NaN</td>\n",
       "      <td>True</td>\n",
       "      <td>cvm5uy4</td>\n",
       "      <td>http://i.imgur.com/yxrkYT8.jpg</td>\n",
       "      <td>3n7fld</td>\n",
       "      <td>NaN</td>\n",
       "      <td>5</td>\n",
       "      <td>psbattle_artwork</td>\n",
       "      <td>NaN</td>\n",
       "      <td>NaN</td>\n",
       "      <td>0</td>\n",
       "      <td>2</td>\n",
       "      <td>4</td>\n",
       "    </tr>\n",
       "    <tr>\n",
       "      <th>2</th>\n",
       "      <td>2</td>\n",
       "      <td>2</td>\n",
       "      <td>NaN</td>\n",
       "      <td>NaN</td>\n",
       "      <td>VIDCAs17</td>\n",
       "      <td>this concerned sink with a tiny hat</td>\n",
       "      <td>1.534727e+09</td>\n",
       "      <td>i.redd.it</td>\n",
       "      <td>True</td>\n",
       "      <td>98pbid</td>\n",
       "      <td>https://preview.redd.it/wsfx0gp0f5h11.jpg?widt...</td>\n",
       "      <td>NaN</td>\n",
       "      <td>2.0</td>\n",
       "      <td>119</td>\n",
       "      <td>pareidolia</td>\n",
       "      <td>This concerned sink with a tiny hat</td>\n",
       "      <td>0.99</td>\n",
       "      <td>0</td>\n",
       "      <td>2</td>\n",
       "      <td>2</td>\n",
       "    </tr>\n",
       "    <tr>\n",
       "      <th>3</th>\n",
       "      <td>3</td>\n",
       "      <td>3</td>\n",
       "      <td>NaN</td>\n",
       "      <td>NaN</td>\n",
       "      <td>prometheus1123</td>\n",
       "      <td>hackers leak emails from uae ambassador to us</td>\n",
       "      <td>1.496511e+09</td>\n",
       "      <td>aljazeera.com</td>\n",
       "      <td>True</td>\n",
       "      <td>6f2cy5</td>\n",
       "      <td>https://external-preview.redd.it/6fNhdbc6K1vFA...</td>\n",
       "      <td>NaN</td>\n",
       "      <td>1.0</td>\n",
       "      <td>44</td>\n",
       "      <td>neutralnews</td>\n",
       "      <td>Hackers leak emails from UAE ambassador to US</td>\n",
       "      <td>0.92</td>\n",
       "      <td>1</td>\n",
       "      <td>0</td>\n",
       "      <td>0</td>\n",
       "    </tr>\n",
       "    <tr>\n",
       "      <th>4</th>\n",
       "      <td>4</td>\n",
       "      <td>4</td>\n",
       "      <td>1228398.0</td>\n",
       "      <td>1228398.0</td>\n",
       "      <td>NaN</td>\n",
       "      <td>NaN</td>\n",
       "      <td>1.378792e+09</td>\n",
       "      <td>NaN</td>\n",
       "      <td>True</td>\n",
       "      <td>cc5cbon</td>\n",
       "      <td>http://i.imgur.com/M8KTWMx.jpg</td>\n",
       "      <td>1lz1q0</td>\n",
       "      <td>NaN</td>\n",
       "      <td>3</td>\n",
       "      <td>psbattle_artwork</td>\n",
       "      <td>NaN</td>\n",
       "      <td>NaN</td>\n",
       "      <td>0</td>\n",
       "      <td>2</td>\n",
       "      <td>4</td>\n",
       "    </tr>\n",
       "  </tbody>\n",
       "</table>\n",
       "</div>"
      ],
      "text/plain": [
       "   Unnamed: 0  Unnamed: 0.1  Unnamed: 0.1.1  Unnamed: 0.1.1          author  \\\n",
       "0           0             0             NaN             NaN     Alexithymia   \n",
       "1           1             1        714550.0        714550.0       RickSisco   \n",
       "2           2             2             NaN             NaN        VIDCAs17   \n",
       "3           3             3             NaN             NaN  prometheus1123   \n",
       "4           4             4       1228398.0       1228398.0             NaN   \n",
       "\n",
       "                                         clean_title   created_utc  \\\n",
       "0  my walgreens offbrand mucinex was engraved wit...  1.551641e+09   \n",
       "1                                                NaN  1.443822e+09   \n",
       "2                this concerned sink with a tiny hat  1.534727e+09   \n",
       "3      hackers leak emails from uae ambassador to us  1.496511e+09   \n",
       "4                                                NaN  1.378792e+09   \n",
       "\n",
       "          domain  hasImage       id  \\\n",
       "0    i.imgur.com      True   awxhir   \n",
       "1            NaN      True  cvm5uy4   \n",
       "2      i.redd.it      True   98pbid   \n",
       "3  aljazeera.com      True   6f2cy5   \n",
       "4            NaN      True  cc5cbon   \n",
       "\n",
       "                                           image_url linked_submission_id  \\\n",
       "0  https://external-preview.redd.it/WylDbZrnbvZdB...                  NaN   \n",
       "1                     http://i.imgur.com/yxrkYT8.jpg               3n7fld   \n",
       "2  https://preview.redd.it/wsfx0gp0f5h11.jpg?widt...                  NaN   \n",
       "3  https://external-preview.redd.it/6fNhdbc6K1vFA...                  NaN   \n",
       "4                     http://i.imgur.com/M8KTWMx.jpg               1lz1q0   \n",
       "\n",
       "   num_comments  score          subreddit  \\\n",
       "0           2.0     12  mildlyinteresting   \n",
       "1           NaN      5   psbattle_artwork   \n",
       "2           2.0    119         pareidolia   \n",
       "3           1.0     44        neutralnews   \n",
       "4           NaN      3   psbattle_artwork   \n",
       "\n",
       "                                               title  upvote_ratio  \\\n",
       "0  My Walgreens offbrand Mucinex was engraved wit...          0.84   \n",
       "1                                                NaN           NaN   \n",
       "2                This concerned sink with a tiny hat          0.99   \n",
       "3      Hackers leak emails from UAE ambassador to US          0.92   \n",
       "4                                                NaN           NaN   \n",
       "\n",
       "   2_way_label  3_way_label  6_way_label  \n",
       "0            1            0            0  \n",
       "1            0            2            4  \n",
       "2            0            2            2  \n",
       "3            1            0            0  \n",
       "4            0            2            4  "
      ]
     },
     "execution_count": 42,
     "metadata": {},
     "output_type": "execute_result"
    }
   ],
   "source": [
    "train_df.head()"
   ]
  },
  {
   "cell_type": "code",
   "execution_count": 43,
   "metadata": {
    "collapsed": true
   },
   "outputs": [],
   "source": [
    "test_df = pd.read_csv(\"datasetv2/datasetv2.0/test_public.tsv\", sep='\\t')"
   ]
  },
  {
   "cell_type": "code",
   "execution_count": 44,
   "metadata": {
    "collapsed": true
   },
   "outputs": [],
   "source": [
    "validate_df = pd.read_csv(\"datasetv2/datasetv2.0/validate.tsv\", sep='\\t')"
   ]
  },
  {
   "cell_type": "code",
   "execution_count": 45,
   "metadata": {
    "collapsed": true
   },
   "outputs": [],
   "source": [
    "merged_df = pd.concat([train_df, test_df], axis=0)"
   ]
  },
  {
   "cell_type": "code",
   "execution_count": 46,
   "metadata": {
    "collapsed": true
   },
   "outputs": [],
   "source": [
    "merged_df = pd.concat([merged_df, validate_df], axis=0)"
   ]
  },
  {
   "cell_type": "markdown",
   "metadata": {},
   "source": [
    "### Performing Statistics on Raw Dataset"
   ]
  },
  {
   "cell_type": "code",
   "execution_count": 47,
   "metadata": {
    "collapsed": true
   },
   "outputs": [],
   "source": [
    "def perform_statistics(df):\n",
    "    total = len(df)\n",
    "    fake_articles = len(df.loc[df['2_way_label'] == 0])\n",
    "    true_articles = len(df.loc[df['2_way_label'] == 1])\n",
    "    num_of_subreddits = df['subreddit'].nunique()\n",
    "    num_of_domains = df['domain'].nunique()\n",
    "    mean_comments = df['num_comments'].mean()\n",
    "    mean_title_len = merged_df['title'].replace(np.nan, '').str.split().apply(len).mean()\n",
    "    min_date = dt.datetime.fromtimestamp(min(merged_df['created_utc']))\n",
    "    max_date = dt.datetime.fromtimestamp(max(merged_df['created_utc']))\n",
    "    \n",
    "    print(\"-\" * 30)\n",
    "    print(\"Total Samples:\", total)\n",
    "    print(\"-\" * 30)\n",
    "    print(\"Fake Samples:\", fake_articles)\n",
    "    print(\"-\" * 30)\n",
    "    print(\"True Samples:\", true_articles)\n",
    "    print(\"-\" * 30)\n",
    "    print(\"Unique Subreddits:\", num_of_subreddits)\n",
    "    print(\"-\" * 30)\n",
    "    print(\"Unique Domains:\", num_of_domains)\n",
    "    print(\"-\" * 30)\n",
    "    print(\"Mean No of Comments:\", mean_comments)\n",
    "    print(\"-\" * 30)\n",
    "    print(\"Mean Words in title:\", mean_title_len)\n",
    "    print(\"-\" * 30)\n",
    "    print(\"Min Creation Date:\", min_date)\n",
    "    print(\"-\" * 30)\n",
    "    print(\"Max Creation Date:\", max_date)\n",
    "    print(\"-\" * 30)\n"
   ]
  },
  {
   "cell_type": "code",
   "execution_count": 48,
   "metadata": {},
   "outputs": [
    {
     "name": "stdout",
     "output_type": "stream",
     "text": [
      "------------------------------\n",
      "Total Samples: 1063106\n",
      "------------------------------\n",
      "Fake Samples: 578189\n",
      "------------------------------\n",
      "True Samples: 484917\n",
      "------------------------------\n",
      "Unique Subreddits: 22\n",
      "------------------------------\n",
      "Unique Domains: 23070\n",
      "------------------------------\n",
      "Mean No of Comments: 17.98840682086149\n",
      "------------------------------\n",
      "Mean Words in title: 7.880655362682555\n",
      "------------------------------\n",
      "Min Creation Date: 2008-05-23 12:52:56\n",
      "------------------------------\n",
      "Max Creation Date: 2019-11-16 06:56:34\n",
      "------------------------------\n"
     ]
    }
   ],
   "source": [
    "perform_statistics(merged_df)"
   ]
  },
  {
   "cell_type": "code",
   "execution_count": 49,
   "metadata": {},
   "outputs": [],
   "source": [
    "# comments_df = pd.read_csv(\"comments/all_comments.tsv\", sep='\\t', quoting=csv.QUOTE_NONE, error_bad_lines=False, lineterminator='\\n')"
   ]
  },
  {
   "cell_type": "code",
   "execution_count": 50,
   "metadata": {},
   "outputs": [],
   "source": [
    "# comments_df.head(5)"
   ]
  },
  {
   "cell_type": "code",
   "execution_count": 51,
   "metadata": {},
   "outputs": [],
   "source": [
    "# len(comments_df)"
   ]
  },
  {
   "cell_type": "code",
   "execution_count": 52,
   "metadata": {},
   "outputs": [
    {
     "data": {
      "text/plain": [
       "Index(['Unnamed: 0', 'Unnamed: 0.1', 'Unnamed: 0.1.1', 'Unnamed: 0.1.1',\n",
       "       'author', 'clean_title', 'created_utc', 'domain', 'hasImage', 'id',\n",
       "       'image_url', 'linked_submission_id', 'num_comments', 'score',\n",
       "       'subreddit', 'title', 'upvote_ratio', '2_way_label', '3_way_label',\n",
       "       '6_way_label'],\n",
       "      dtype='object')"
      ]
     },
     "execution_count": 52,
     "metadata": {},
     "output_type": "execute_result"
    }
   ],
   "source": [
    "merged_df.columns"
   ]
  },
  {
   "cell_type": "markdown",
   "metadata": {},
   "source": [
    "### Pre-processing Dataset"
   ]
  },
  {
   "cell_type": "code",
   "execution_count": 53,
   "metadata": {},
   "outputs": [
    {
     "data": {
      "text/html": [
       "<div>\n",
       "<style>\n",
       "    .dataframe thead tr:only-child th {\n",
       "        text-align: right;\n",
       "    }\n",
       "\n",
       "    .dataframe thead th {\n",
       "        text-align: left;\n",
       "    }\n",
       "\n",
       "    .dataframe tbody tr th {\n",
       "        vertical-align: top;\n",
       "    }\n",
       "</style>\n",
       "<table border=\"1\" class=\"dataframe\">\n",
       "  <thead>\n",
       "    <tr style=\"text-align: right;\">\n",
       "      <th></th>\n",
       "      <th>clean_title</th>\n",
       "      <th>created_utc</th>\n",
       "      <th>id</th>\n",
       "      <th>num_comments</th>\n",
       "      <th>subreddit</th>\n",
       "      <th>upvote_ratio</th>\n",
       "      <th>2_way_label</th>\n",
       "    </tr>\n",
       "  </thead>\n",
       "  <tbody>\n",
       "    <tr>\n",
       "      <th>0</th>\n",
       "      <td>my walgreens offbrand mucinex was engraved wit...</td>\n",
       "      <td>1.551641e+09</td>\n",
       "      <td>awxhir</td>\n",
       "      <td>2.0</td>\n",
       "      <td>mildlyinteresting</td>\n",
       "      <td>0.84</td>\n",
       "      <td>1</td>\n",
       "    </tr>\n",
       "    <tr>\n",
       "      <th>1</th>\n",
       "      <td>NaN</td>\n",
       "      <td>1.443822e+09</td>\n",
       "      <td>cvm5uy4</td>\n",
       "      <td>NaN</td>\n",
       "      <td>psbattle_artwork</td>\n",
       "      <td>NaN</td>\n",
       "      <td>0</td>\n",
       "    </tr>\n",
       "    <tr>\n",
       "      <th>2</th>\n",
       "      <td>this concerned sink with a tiny hat</td>\n",
       "      <td>1.534727e+09</td>\n",
       "      <td>98pbid</td>\n",
       "      <td>2.0</td>\n",
       "      <td>pareidolia</td>\n",
       "      <td>0.99</td>\n",
       "      <td>0</td>\n",
       "    </tr>\n",
       "    <tr>\n",
       "      <th>3</th>\n",
       "      <td>hackers leak emails from uae ambassador to us</td>\n",
       "      <td>1.496511e+09</td>\n",
       "      <td>6f2cy5</td>\n",
       "      <td>1.0</td>\n",
       "      <td>neutralnews</td>\n",
       "      <td>0.92</td>\n",
       "      <td>1</td>\n",
       "    </tr>\n",
       "    <tr>\n",
       "      <th>4</th>\n",
       "      <td>NaN</td>\n",
       "      <td>1.378792e+09</td>\n",
       "      <td>cc5cbon</td>\n",
       "      <td>NaN</td>\n",
       "      <td>psbattle_artwork</td>\n",
       "      <td>NaN</td>\n",
       "      <td>0</td>\n",
       "    </tr>\n",
       "    <tr>\n",
       "      <th>5</th>\n",
       "      <td>this flower in my neighborhood</td>\n",
       "      <td>1.557764e+09</td>\n",
       "      <td>bo5i67</td>\n",
       "      <td>0.0</td>\n",
       "      <td>mildlyinteresting</td>\n",
       "      <td>0.92</td>\n",
       "      <td>1</td>\n",
       "    </tr>\n",
       "    <tr>\n",
       "      <th>6</th>\n",
       "      <td>puppy taking in the view</td>\n",
       "      <td>1.471341e+09</td>\n",
       "      <td>4xypkv</td>\n",
       "      <td>26.0</td>\n",
       "      <td>photoshopbattles</td>\n",
       "      <td>0.95</td>\n",
       "      <td>1</td>\n",
       "    </tr>\n",
       "    <tr>\n",
       "      <th>7</th>\n",
       "      <td>i found a face in my sheet music too</td>\n",
       "      <td>1.525318e+09</td>\n",
       "      <td>8gnet9</td>\n",
       "      <td>2.0</td>\n",
       "      <td>pareidolia</td>\n",
       "      <td>0.84</td>\n",
       "      <td>0</td>\n",
       "    </tr>\n",
       "    <tr>\n",
       "      <th>8</th>\n",
       "      <td>escobar a couple of thoughts</td>\n",
       "      <td>1.506021e+09</td>\n",
       "      <td>71lejc</td>\n",
       "      <td>1.0</td>\n",
       "      <td>fakealbumcovers</td>\n",
       "      <td>0.81</td>\n",
       "      <td>0</td>\n",
       "    </tr>\n",
       "    <tr>\n",
       "      <th>9</th>\n",
       "      <td>bride and groom exchange vows after fatal shoo...</td>\n",
       "      <td>1.423681e+09</td>\n",
       "      <td>2vkbtj</td>\n",
       "      <td>7.0</td>\n",
       "      <td>nottheonion</td>\n",
       "      <td>0.64</td>\n",
       "      <td>1</td>\n",
       "    </tr>\n",
       "  </tbody>\n",
       "</table>\n",
       "</div>"
      ],
      "text/plain": [
       "                                         clean_title   created_utc       id  \\\n",
       "0  my walgreens offbrand mucinex was engraved wit...  1.551641e+09   awxhir   \n",
       "1                                                NaN  1.443822e+09  cvm5uy4   \n",
       "2                this concerned sink with a tiny hat  1.534727e+09   98pbid   \n",
       "3      hackers leak emails from uae ambassador to us  1.496511e+09   6f2cy5   \n",
       "4                                                NaN  1.378792e+09  cc5cbon   \n",
       "5                     this flower in my neighborhood  1.557764e+09   bo5i67   \n",
       "6                           puppy taking in the view  1.471341e+09   4xypkv   \n",
       "7               i found a face in my sheet music too  1.525318e+09   8gnet9   \n",
       "8                       escobar a couple of thoughts  1.506021e+09   71lejc   \n",
       "9  bride and groom exchange vows after fatal shoo...  1.423681e+09   2vkbtj   \n",
       "\n",
       "   num_comments          subreddit  upvote_ratio  2_way_label  \n",
       "0           2.0  mildlyinteresting          0.84            1  \n",
       "1           NaN   psbattle_artwork           NaN            0  \n",
       "2           2.0         pareidolia          0.99            0  \n",
       "3           1.0        neutralnews          0.92            1  \n",
       "4           NaN   psbattle_artwork           NaN            0  \n",
       "5           0.0  mildlyinteresting          0.92            1  \n",
       "6          26.0   photoshopbattles          0.95            1  \n",
       "7           2.0         pareidolia          0.84            0  \n",
       "8           1.0    fakealbumcovers          0.81            0  \n",
       "9           7.0        nottheonion          0.64            1  "
      ]
     },
     "execution_count": 53,
     "metadata": {},
     "output_type": "execute_result"
    }
   ],
   "source": [
    "# Remove unwanted columns in the dataframe\n",
    "df=merged_df.iloc[:,[5, 6, 9,12,14,16, 17]]\n",
    "df=df.iloc[:,:]\n",
    "df.head(10)"
   ]
  },
  {
   "cell_type": "code",
   "execution_count": 54,
   "metadata": {},
   "outputs": [
    {
     "data": {
      "text/html": [
       "<div>\n",
       "<style>\n",
       "    .dataframe thead tr:only-child th {\n",
       "        text-align: right;\n",
       "    }\n",
       "\n",
       "    .dataframe thead th {\n",
       "        text-align: left;\n",
       "    }\n",
       "\n",
       "    .dataframe tbody tr th {\n",
       "        vertical-align: top;\n",
       "    }\n",
       "</style>\n",
       "<table border=\"1\" class=\"dataframe\">\n",
       "  <thead>\n",
       "    <tr style=\"text-align: right;\">\n",
       "      <th></th>\n",
       "      <th>clean_title</th>\n",
       "      <th>created_utc</th>\n",
       "      <th>id</th>\n",
       "      <th>num_comments</th>\n",
       "      <th>subreddit</th>\n",
       "      <th>upvote_ratio</th>\n",
       "      <th>2_way_label</th>\n",
       "    </tr>\n",
       "  </thead>\n",
       "  <tbody>\n",
       "    <tr>\n",
       "      <th>92433</th>\n",
       "      <td>halfbaked burglar plunders familys pavlova</td>\n",
       "      <td>1.387542e+09</td>\n",
       "      <td>1tbjsx</td>\n",
       "      <td>0.0</td>\n",
       "      <td>nottheonion</td>\n",
       "      <td>0.75</td>\n",
       "      <td>1</td>\n",
       "    </tr>\n",
       "    <tr>\n",
       "      <th>92434</th>\n",
       "      <td>uranus might be full of surprises</td>\n",
       "      <td>1.416004e+09</td>\n",
       "      <td>2mbsg2</td>\n",
       "      <td>2.0</td>\n",
       "      <td>nottheonion</td>\n",
       "      <td>0.86</td>\n",
       "      <td>1</td>\n",
       "    </tr>\n",
       "    <tr>\n",
       "      <th>92435</th>\n",
       "      <td>hungry hungry hippo</td>\n",
       "      <td>1.411154e+09</td>\n",
       "      <td>ckmzveb</td>\n",
       "      <td>NaN</td>\n",
       "      <td>psbattle_artwork</td>\n",
       "      <td>NaN</td>\n",
       "      <td>0</td>\n",
       "    </tr>\n",
       "    <tr>\n",
       "      <th>92436</th>\n",
       "      <td>trying to build a custom painted cooler</td>\n",
       "      <td>1.469538e+09</td>\n",
       "      <td>4uoh7r</td>\n",
       "      <td>19.0</td>\n",
       "      <td>subredditsimulator</td>\n",
       "      <td>0.90</td>\n",
       "      <td>0</td>\n",
       "    </tr>\n",
       "    <tr>\n",
       "      <th>92438</th>\n",
       "      <td>russian bid to influence brexit vote detailed ...</td>\n",
       "      <td>1.552126e+09</td>\n",
       "      <td>az1zlp</td>\n",
       "      <td>2.0</td>\n",
       "      <td>neutralnews</td>\n",
       "      <td>0.81</td>\n",
       "      <td>1</td>\n",
       "    </tr>\n",
       "    <tr>\n",
       "      <th>92439</th>\n",
       "      <td>nicaraguan bank sanctioned by us shuts down</td>\n",
       "      <td>1.556673e+09</td>\n",
       "      <td>bjb8g9</td>\n",
       "      <td>0.0</td>\n",
       "      <td>usnews</td>\n",
       "      <td>1.00</td>\n",
       "      <td>1</td>\n",
       "    </tr>\n",
       "    <tr>\n",
       "      <th>92440</th>\n",
       "      <td>this column and emergency light</td>\n",
       "      <td>1.506690e+09</td>\n",
       "      <td>737mcu</td>\n",
       "      <td>0.0</td>\n",
       "      <td>pareidolia</td>\n",
       "      <td>1.00</td>\n",
       "      <td>0</td>\n",
       "    </tr>\n",
       "    <tr>\n",
       "      <th>92441</th>\n",
       "      <td>former royal marine selling medals to help fun...</td>\n",
       "      <td>1.560033e+09</td>\n",
       "      <td>bydg0l</td>\n",
       "      <td>0.0</td>\n",
       "      <td>upliftingnews</td>\n",
       "      <td>0.86</td>\n",
       "      <td>1</td>\n",
       "    </tr>\n",
       "    <tr>\n",
       "      <th>92442</th>\n",
       "      <td>so proud</td>\n",
       "      <td>1.361106e+09</td>\n",
       "      <td>c8gnd59</td>\n",
       "      <td>NaN</td>\n",
       "      <td>psbattle_artwork</td>\n",
       "      <td>NaN</td>\n",
       "      <td>0</td>\n",
       "    </tr>\n",
       "    <tr>\n",
       "      <th>92443</th>\n",
       "      <td>i tried</td>\n",
       "      <td>1.500573e+09</td>\n",
       "      <td>dkhfq81</td>\n",
       "      <td>NaN</td>\n",
       "      <td>psbattle_artwork</td>\n",
       "      <td>NaN</td>\n",
       "      <td>0</td>\n",
       "    </tr>\n",
       "  </tbody>\n",
       "</table>\n",
       "</div>"
      ],
      "text/plain": [
       "                                             clean_title   created_utc  \\\n",
       "92433         halfbaked burglar plunders familys pavlova  1.387542e+09   \n",
       "92434                  uranus might be full of surprises  1.416004e+09   \n",
       "92435                                hungry hungry hippo  1.411154e+09   \n",
       "92436            trying to build a custom painted cooler  1.469538e+09   \n",
       "92438  russian bid to influence brexit vote detailed ...  1.552126e+09   \n",
       "92439        nicaraguan bank sanctioned by us shuts down  1.556673e+09   \n",
       "92440                    this column and emergency light  1.506690e+09   \n",
       "92441  former royal marine selling medals to help fun...  1.560033e+09   \n",
       "92442                                           so proud  1.361106e+09   \n",
       "92443                                            i tried  1.500573e+09   \n",
       "\n",
       "            id  num_comments           subreddit  upvote_ratio  2_way_label  \n",
       "92433   1tbjsx           0.0         nottheonion          0.75            1  \n",
       "92434   2mbsg2           2.0         nottheonion          0.86            1  \n",
       "92435  ckmzveb           NaN    psbattle_artwork           NaN            0  \n",
       "92436   4uoh7r          19.0  subredditsimulator          0.90            0  \n",
       "92438   az1zlp           2.0         neutralnews          0.81            1  \n",
       "92439   bjb8g9           0.0              usnews          1.00            1  \n",
       "92440   737mcu           0.0          pareidolia          1.00            0  \n",
       "92441   bydg0l           0.0       upliftingnews          0.86            1  \n",
       "92442  c8gnd59           NaN    psbattle_artwork           NaN            0  \n",
       "92443  dkhfq81           NaN    psbattle_artwork           NaN            0  "
      ]
     },
     "execution_count": 54,
     "metadata": {},
     "output_type": "execute_result"
    }
   ],
   "source": [
    "# Remove titles with NaN \n",
    "df = df.dropna(subset = [\"clean_title\"])\n",
    "df.tail(10)"
   ]
  },
  {
   "cell_type": "code",
   "execution_count": 55,
   "metadata": {
    "collapsed": true
   },
   "outputs": [],
   "source": [
    "# Change Date from UTC to Datetime\n",
    "def get_date(created):\n",
    "    return dt.datetime.fromtimestamp(created)\n",
    "df[\"created_utc\"] = df[\"created_utc\"].apply(get_date)"
   ]
  },
  {
   "cell_type": "code",
   "execution_count": 56,
   "metadata": {
    "collapsed": true
   },
   "outputs": [],
   "source": [
    "df = df.reset_index(drop = True)"
   ]
  },
  {
   "cell_type": "code",
   "execution_count": 75,
   "metadata": {},
   "outputs": [
    {
     "data": {
      "text/html": [
       "<div>\n",
       "<style>\n",
       "    .dataframe thead tr:only-child th {\n",
       "        text-align: right;\n",
       "    }\n",
       "\n",
       "    .dataframe thead th {\n",
       "        text-align: left;\n",
       "    }\n",
       "\n",
       "    .dataframe tbody tr th {\n",
       "        vertical-align: top;\n",
       "    }\n",
       "</style>\n",
       "<table border=\"1\" class=\"dataframe\">\n",
       "  <thead>\n",
       "    <tr style=\"text-align: right;\">\n",
       "      <th></th>\n",
       "      <th>clean_title</th>\n",
       "      <th>created_utc</th>\n",
       "      <th>id</th>\n",
       "      <th>num_comments</th>\n",
       "      <th>subreddit</th>\n",
       "      <th>upvote_ratio</th>\n",
       "      <th>2_way_label</th>\n",
       "    </tr>\n",
       "  </thead>\n",
       "  <tbody>\n",
       "    <tr>\n",
       "      <th>0</th>\n",
       "      <td>my walgreens offbrand mucinex was engraved wit...</td>\n",
       "      <td>2019-03-04 03:27:24</td>\n",
       "      <td>awxhir</td>\n",
       "      <td>2.0</td>\n",
       "      <td>mildlyinteresting</td>\n",
       "      <td>0.84</td>\n",
       "      <td>1</td>\n",
       "    </tr>\n",
       "    <tr>\n",
       "      <th>1</th>\n",
       "      <td>this concerned sink with a tiny hat</td>\n",
       "      <td>2018-08-20 09:10:13</td>\n",
       "      <td>98pbid</td>\n",
       "      <td>2.0</td>\n",
       "      <td>pareidolia</td>\n",
       "      <td>0.99</td>\n",
       "      <td>0</td>\n",
       "    </tr>\n",
       "    <tr>\n",
       "      <th>2</th>\n",
       "      <td>hackers leak emails from uae ambassador to us</td>\n",
       "      <td>2017-06-04 01:26:38</td>\n",
       "      <td>6f2cy5</td>\n",
       "      <td>1.0</td>\n",
       "      <td>neutralnews</td>\n",
       "      <td>0.92</td>\n",
       "      <td>1</td>\n",
       "    </tr>\n",
       "    <tr>\n",
       "      <th>3</th>\n",
       "      <td>this flower in my neighborhood</td>\n",
       "      <td>2019-05-14 00:13:45</td>\n",
       "      <td>bo5i67</td>\n",
       "      <td>0.0</td>\n",
       "      <td>mildlyinteresting</td>\n",
       "      <td>0.92</td>\n",
       "      <td>1</td>\n",
       "    </tr>\n",
       "    <tr>\n",
       "      <th>4</th>\n",
       "      <td>puppy taking in the view</td>\n",
       "      <td>2016-08-16 17:51:30</td>\n",
       "      <td>4xypkv</td>\n",
       "      <td>26.0</td>\n",
       "      <td>photoshopbattles</td>\n",
       "      <td>0.95</td>\n",
       "      <td>1</td>\n",
       "    </tr>\n",
       "  </tbody>\n",
       "</table>\n",
       "</div>"
      ],
      "text/plain": [
       "                                         clean_title         created_utc  \\\n",
       "0  my walgreens offbrand mucinex was engraved wit... 2019-03-04 03:27:24   \n",
       "1                this concerned sink with a tiny hat 2018-08-20 09:10:13   \n",
       "2      hackers leak emails from uae ambassador to us 2017-06-04 01:26:38   \n",
       "3                     this flower in my neighborhood 2019-05-14 00:13:45   \n",
       "4                           puppy taking in the view 2016-08-16 17:51:30   \n",
       "\n",
       "       id  num_comments          subreddit  upvote_ratio  2_way_label  \n",
       "0  awxhir           2.0  mildlyinteresting          0.84            1  \n",
       "1  98pbid           2.0         pareidolia          0.99            0  \n",
       "2  6f2cy5           1.0        neutralnews          0.92            1  \n",
       "3  bo5i67           0.0  mildlyinteresting          0.92            1  \n",
       "4  4xypkv          26.0   photoshopbattles          0.95            1  "
      ]
     },
     "execution_count": 75,
     "metadata": {},
     "output_type": "execute_result"
    }
   ],
   "source": [
    "df.head()"
   ]
  },
  {
   "cell_type": "code",
   "execution_count": 58,
   "metadata": {
    "collapsed": true
   },
   "outputs": [],
   "source": [
    "df2 = df[['clean_title', '2_way_label']]\n",
    "df2 = df2.loc[df2['2_way_label'] == 1]"
   ]
  },
  {
   "cell_type": "code",
   "execution_count": 59,
   "metadata": {},
   "outputs": [
    {
     "data": {
      "text/html": [
       "<div>\n",
       "<style>\n",
       "    .dataframe thead tr:only-child th {\n",
       "        text-align: right;\n",
       "    }\n",
       "\n",
       "    .dataframe thead th {\n",
       "        text-align: left;\n",
       "    }\n",
       "\n",
       "    .dataframe tbody tr th {\n",
       "        vertical-align: top;\n",
       "    }\n",
       "</style>\n",
       "<table border=\"1\" class=\"dataframe\">\n",
       "  <thead>\n",
       "    <tr style=\"text-align: right;\">\n",
       "      <th></th>\n",
       "      <th>clean_title</th>\n",
       "      <th>2_way_label</th>\n",
       "    </tr>\n",
       "  </thead>\n",
       "  <tbody>\n",
       "    <tr>\n",
       "      <th>0</th>\n",
       "      <td>my walgreens offbrand mucinex was engraved wit...</td>\n",
       "      <td>1</td>\n",
       "    </tr>\n",
       "    <tr>\n",
       "      <th>2</th>\n",
       "      <td>hackers leak emails from uae ambassador to us</td>\n",
       "      <td>1</td>\n",
       "    </tr>\n",
       "    <tr>\n",
       "      <th>3</th>\n",
       "      <td>this flower in my neighborhood</td>\n",
       "      <td>1</td>\n",
       "    </tr>\n",
       "    <tr>\n",
       "      <th>4</th>\n",
       "      <td>puppy taking in the view</td>\n",
       "      <td>1</td>\n",
       "    </tr>\n",
       "    <tr>\n",
       "      <th>7</th>\n",
       "      <td>bride and groom exchange vows after fatal shoo...</td>\n",
       "      <td>1</td>\n",
       "    </tr>\n",
       "  </tbody>\n",
       "</table>\n",
       "</div>"
      ],
      "text/plain": [
       "                                         clean_title  2_way_label\n",
       "0  my walgreens offbrand mucinex was engraved wit...            1\n",
       "2      hackers leak emails from uae ambassador to us            1\n",
       "3                     this flower in my neighborhood            1\n",
       "4                           puppy taking in the view            1\n",
       "7  bride and groom exchange vows after fatal shoo...            1"
      ]
     },
     "execution_count": 59,
     "metadata": {},
     "output_type": "execute_result"
    }
   ],
   "source": [
    "df2.head()"
   ]
  },
  {
   "cell_type": "code",
   "execution_count": 60,
   "metadata": {
    "collapsed": true
   },
   "outputs": [],
   "source": [
    "stop = stopwords.words('english')\n",
    "x = df2['clean_title'].apply(lambda x: ' '.join([item for item in x.split() if item not in stop]))\n",
    "x = x.to_frame()"
   ]
  },
  {
   "cell_type": "code",
   "execution_count": 61,
   "metadata": {},
   "outputs": [],
   "source": [
    "x = x.reset_index(drop = True)"
   ]
  },
  {
   "cell_type": "code",
   "execution_count": 62,
   "metadata": {
    "collapsed": true
   },
   "outputs": [],
   "source": [
    "common = Counter(\" \".join(x[\"clean_title\"]).split()).most_common(5)"
   ]
  },
  {
   "cell_type": "code",
   "execution_count": 63,
   "metadata": {},
   "outputs": [
    {
     "data": {
      "text/plain": [
       "[('man', 25622),\n",
       " ('like', 15930),\n",
       " ('dog', 14244),\n",
       " ('found', 13626),\n",
       " ('cat', 12298)]"
      ]
     },
     "execution_count": 63,
     "metadata": {},
     "output_type": "execute_result"
    }
   ],
   "source": [
    "common"
   ]
  },
  {
   "cell_type": "code",
   "execution_count": 64,
   "metadata": {},
   "outputs": [
    {
     "data": {
      "image/png": "[encoded data removed]",
      "text/plain": [
       "<matplotlib.figure.Figure at 0x1ef97c77c88>"
      ]
     },
     "metadata": {},
     "output_type": "display_data"
    }
   ],
   "source": [
    "x_val = [i for i in range(len(common))]\n",
    "y_val = [int(x[1]) for x in common]\n",
    "labels = [str(x[0]) for x in common]\n",
    "\n",
    "f, ax = plt.subplots(figsize=(10,8)) \n",
    "plt.bar(x_val, y_val, align='center', alpha=0.5)\n",
    "plt.title('Most Common Words in True Posts')\n",
    "plt.xticks(x_val, labels)\n",
    "plt.show()"
   ]
  },
  {
   "cell_type": "code",
   "execution_count": 65,
   "metadata": {
    "collapsed": true
   },
   "outputs": [],
   "source": [
    "df2 = df[['clean_title', '2_way_label']]\n",
    "df2 = df2.loc[df2['2_way_label'] == 0]"
   ]
  },
  {
   "cell_type": "code",
   "execution_count": 66,
   "metadata": {
    "collapsed": true
   },
   "outputs": [],
   "source": [
    "x = df2['clean_title'].apply(lambda x: ' '.join([item for item in x.split() if item not in stop]))\n",
    "x = x.to_frame()"
   ]
  },
  {
   "cell_type": "code",
   "execution_count": 67,
   "metadata": {
    "collapsed": true
   },
   "outputs": [],
   "source": [
    "x = x.reset_index(drop = True)"
   ]
  },
  {
   "cell_type": "code",
   "execution_count": 68,
   "metadata": {},
   "outputs": [
    {
     "data": {
      "text/plain": [
       "[('like', 11676),\n",
       " ('discussions', 9270),\n",
       " ('new', 8888),\n",
       " ('one', 8673),\n",
       " ('happy', 8425)]"
      ]
     },
     "execution_count": 68,
     "metadata": {},
     "output_type": "execute_result"
    }
   ],
   "source": [
    "common = Counter(\" \".join(x[\"clean_title\"]).split()).most_common(5)\n",
    "common"
   ]
  },
  {
   "cell_type": "code",
   "execution_count": 69,
   "metadata": {},
   "outputs": [
    {
     "data": {
      "image/png": "[encoded data removed]",
      "text/plain": [
       "<matplotlib.figure.Figure at 0x1eed42be748>"
      ]
     },
     "metadata": {},
     "output_type": "display_data"
    }
   ],
   "source": [
    "x_val = [i for i in range(len(common))]\n",
    "y_val = [int(x[1]) for x in common]\n",
    "labels = [str(x[0]) for x in common]\n",
    "\n",
    "f, ax = plt.subplots(figsize=(10,8)) \n",
    "plt.bar(x_val, y_val, align='center', alpha=0.5)\n",
    "plt.title('Most Common Words in False Posts')\n",
    "plt.xticks(x_val, labels)\n",
    "plt.show()"
   ]
  },
  {
   "cell_type": "markdown",
   "metadata": {},
   "source": [
    "##### Comparison of Upvote to Downvote ratio For Fake and Real posts"
   ]
  },
  {
   "cell_type": "code",
   "execution_count": 72,
   "metadata": {},
   "outputs": [
    {
     "data": {
      "image/png": "[encoded data removed]",
      "text/plain": [
       "<matplotlib.figure.Figure at 0x1ef97c0cc50>"
      ]
     },
     "metadata": {},
     "output_type": "display_data"
    }
   ],
   "source": [
    "fig, ax = plt.subplots(figsize=(10,8))\n",
    "plt.suptitle('')\n",
    "df.boxplot(column=['upvote_ratio'], by='2_way_label', showfliers=False, ax=ax)\n",
    "plt.title('Upvote to Downvote ratio For Fake and Real posts')\n",
    "plt.xlabel('Real or Fake')\n",
    "plt.xticks([1, 2], ['Fake', 'Real'])\n",
    "plt.show()"
   ]
  },
  {
   "cell_type": "code",
   "execution_count": 53,
   "metadata": {},
   "outputs": [
    {
     "name": "stderr",
     "output_type": "stream",
     "text": [
      "C:\\Users\\saadu\\Anaconda3\\lib\\site-packages\\IPython\\core\\interactiveshell.py:2717: DtypeWarning: Columns (4) have mixed types. Specify dtype option on import or set low_memory=False.\n",
      "  interactivity=interactivity, compiler=compiler, result=result)\n"
     ]
    }
   ],
   "source": [
    "test = pd.read_csv(\"comments/comments_10.csv\", sep=',')"
   ]
  },
  {
   "cell_type": "code",
   "execution_count": 55,
   "metadata": {},
   "outputs": [
    {
     "data": {
      "text/html": [
       "<div>\n",
       "<style>\n",
       "    .dataframe thead tr:only-child th {\n",
       "        text-align: right;\n",
       "    }\n",
       "\n",
       "    .dataframe thead th {\n",
       "        text-align: left;\n",
       "    }\n",
       "\n",
       "    .dataframe tbody tr th {\n",
       "        vertical-align: top;\n",
       "    }\n",
       "</style>\n",
       "<table border=\"1\" class=\"dataframe\">\n",
       "  <thead>\n",
       "    <tr style=\"text-align: right;\">\n",
       "      <th></th>\n",
       "      <th>Column1</th>\n",
       "      <th>id</th>\n",
       "      <th>author</th>\n",
       "      <th>body</th>\n",
       "      <th>isTopLevel</th>\n",
       "      <th>parent_id</th>\n",
       "      <th>submission_id</th>\n",
       "      <th>ups</th>\n",
       "    </tr>\n",
       "  </thead>\n",
       "  <tbody>\n",
       "    <tr>\n",
       "      <th>954119</th>\n",
       "      <td>10601588.0</td>\n",
       "      <td>c4po9sb</td>\n",
       "      <td>razorsheldon</td>\n",
       "      <td>Yeah, me too.  Unfortunately, child abduction ...</td>\n",
       "      <td>False</td>\n",
       "      <td>t1_c4pmve5</td>\n",
       "      <td>tti4x</td>\n",
       "      <td>1.0</td>\n",
       "    </tr>\n",
       "    <tr>\n",
       "      <th>954120</th>\n",
       "      <td>10601589.0</td>\n",
       "      <td>c4pll5i</td>\n",
       "      <td>l3tigre</td>\n",
       "      <td>I'm from KY, and just happy to see a nice stor...</td>\n",
       "      <td>True</td>\n",
       "      <td>t3_tthxb</td>\n",
       "      <td>tthxb</td>\n",
       "      <td>6.0</td>\n",
       "    </tr>\n",
       "    <tr>\n",
       "      <th>954121</th>\n",
       "      <td>10601590.0</td>\n",
       "      <td>c4pq81h</td>\n",
       "      <td>NaN</td>\n",
       "      <td>Hm, is this spinning for anyone else? Both the...</td>\n",
       "      <td>True</td>\n",
       "      <td>t3_tteum</td>\n",
       "      <td>tteum</td>\n",
       "      <td>1.0</td>\n",
       "    </tr>\n",
       "    <tr>\n",
       "      <th>954122</th>\n",
       "      <td>10601591.0</td>\n",
       "      <td>c4pok5u</td>\n",
       "      <td>depressed_clown</td>\n",
       "      <td>This was on a radio station's \"nieuws van het ...</td>\n",
       "      <td>True</td>\n",
       "      <td>t3_tteg6</td>\n",
       "      <td>tteg6</td>\n",
       "      <td>3.0</td>\n",
       "    </tr>\n",
       "    <tr>\n",
       "      <th>954123</th>\n",
       "      <td>10601592.0</td>\n",
       "      <td>c4rj7nt</td>\n",
       "      <td>analcarbomb</td>\n",
       "      <td>It's things like this that keep me on this sit...</td>\n",
       "      <td>True</td>\n",
       "      <td>t3_tteg6</td>\n",
       "      <td>tteg6</td>\n",
       "      <td>2.0</td>\n",
       "    </tr>\n",
       "  </tbody>\n",
       "</table>\n",
       "</div>"
      ],
      "text/plain": [
       "           Column1       id           author  \\\n",
       "954119  10601588.0  c4po9sb     razorsheldon   \n",
       "954120  10601589.0  c4pll5i          l3tigre   \n",
       "954121  10601590.0  c4pq81h              NaN   \n",
       "954122  10601591.0  c4pok5u  depressed_clown   \n",
       "954123  10601592.0  c4rj7nt      analcarbomb   \n",
       "\n",
       "                                                     body isTopLevel  \\\n",
       "954119  Yeah, me too.  Unfortunately, child abduction ...      False   \n",
       "954120  I'm from KY, and just happy to see a nice stor...       True   \n",
       "954121  Hm, is this spinning for anyone else? Both the...       True   \n",
       "954122  This was on a radio station's \"nieuws van het ...       True   \n",
       "954123  It's things like this that keep me on this sit...       True   \n",
       "\n",
       "         parent_id submission_id  ups  \n",
       "954119  t1_c4pmve5         tti4x  1.0  \n",
       "954120    t3_tthxb         tthxb  6.0  \n",
       "954121    t3_tteum         tteum  1.0  \n",
       "954122    t3_tteg6         tteg6  3.0  \n",
       "954123    t3_tteg6         tteg6  2.0  "
      ]
     },
     "execution_count": 55,
     "metadata": {},
     "output_type": "execute_result"
    }
   ],
   "source": [
    "test.tail()"
   ]
  },
  {
   "cell_type": "code",
   "execution_count": 4,
   "metadata": {},
   "outputs": [
    {
     "name": "stderr",
     "output_type": "stream",
     "text": [
      "C:\\Users\\saadu\\Anaconda3\\lib\\site-packages\\IPython\\core\\interactiveshell.py:2881: DtypeWarning: Columns (4) have mixed types. Specify dtype option on import or set low_memory=False.\n",
      "  exec(code_obj, self.user_global_ns, self.user_ns)\n"
     ]
    }
   ],
   "source": [
    "import glob, os\n",
    "df = pd.concat(map(pd.read_csv, glob.glob(os.path.join('comments', \"comment*.csv\"))))"
   ]
  },
  {
   "cell_type": "code",
   "execution_count": 5,
   "metadata": {
    "collapsed": true
   },
   "outputs": [],
   "source": [
    "df = df.reset_index(drop = True)"
   ]
  },
  {
   "cell_type": "code",
   "execution_count": 9,
   "metadata": {},
   "outputs": [
    {
     "data": {
      "text/html": [
       "<div>\n",
       "<style>\n",
       "    .dataframe thead tr:only-child th {\n",
       "        text-align: right;\n",
       "    }\n",
       "\n",
       "    .dataframe thead th {\n",
       "        text-align: left;\n",
       "    }\n",
       "\n",
       "    .dataframe tbody tr th {\n",
       "        vertical-align: top;\n",
       "    }\n",
       "</style>\n",
       "<table border=\"1\" class=\"dataframe\">\n",
       "  <thead>\n",
       "    <tr style=\"text-align: right;\">\n",
       "      <th></th>\n",
       "      <th>Column1</th>\n",
       "      <th>id</th>\n",
       "      <th>author</th>\n",
       "      <th>body</th>\n",
       "      <th>isTopLevel</th>\n",
       "      <th>parent_id</th>\n",
       "      <th>submission_id</th>\n",
       "      <th>ups</th>\n",
       "    </tr>\n",
       "  </thead>\n",
       "  <tbody>\n",
       "    <tr>\n",
       "      <th>0</th>\n",
       "      <td>0.0</td>\n",
       "      <td>f4deplg</td>\n",
       "      <td>Haus42</td>\n",
       "      <td>Scroll, scroll, scroll.  Pause.  Scroll back u...</td>\n",
       "      <td>True</td>\n",
       "      <td>t3_dkdml1</td>\n",
       "      <td>dkdml1</td>\n",
       "      <td>162.0</td>\n",
       "    </tr>\n",
       "    <tr>\n",
       "      <th>1</th>\n",
       "      <td>1.0</td>\n",
       "      <td>f4d79bi</td>\n",
       "      <td>PotatoPrince84</td>\n",
       "      <td>A lot of the people who felt quite strongly ab...</td>\n",
       "      <td>True</td>\n",
       "      <td>t3_dkdml1</td>\n",
       "      <td>dkdml1</td>\n",
       "      <td>84.0</td>\n",
       "    </tr>\n",
       "    <tr>\n",
       "      <th>2</th>\n",
       "      <td>2.0</td>\n",
       "      <td>f4ddmlk</td>\n",
       "      <td>MadeToAchieveBalance</td>\n",
       "      <td>T H E   S P H E R E   S H A L L   R I S E   A ...</td>\n",
       "      <td>True</td>\n",
       "      <td>t3_dkdml1</td>\n",
       "      <td>dkdml1</td>\n",
       "      <td>34.0</td>\n",
       "    </tr>\n",
       "    <tr>\n",
       "      <th>3</th>\n",
       "      <td>3.0</td>\n",
       "      <td>f4dknfn</td>\n",
       "      <td>MrBigRed</td>\n",
       "      <td>All hail the cube of justice</td>\n",
       "      <td>True</td>\n",
       "      <td>t3_dkdml1</td>\n",
       "      <td>dkdml1</td>\n",
       "      <td>9.0</td>\n",
       "    </tr>\n",
       "    <tr>\n",
       "      <th>4</th>\n",
       "      <td>4.0</td>\n",
       "      <td>f4dgdur</td>\n",
       "      <td>burritosenior</td>\n",
       "      <td>That is glorious.</td>\n",
       "      <td>True</td>\n",
       "      <td>t3_dkdml1</td>\n",
       "      <td>dkdml1</td>\n",
       "      <td>4.0</td>\n",
       "    </tr>\n",
       "  </tbody>\n",
       "</table>\n",
       "</div>"
      ],
      "text/plain": [
       "   Column1       id                author  \\\n",
       "0      0.0  f4deplg                Haus42   \n",
       "1      1.0  f4d79bi        PotatoPrince84   \n",
       "2      2.0  f4ddmlk  MadeToAchieveBalance   \n",
       "3      3.0  f4dknfn              MrBigRed   \n",
       "4      4.0  f4dgdur         burritosenior   \n",
       "\n",
       "                                                body isTopLevel  parent_id  \\\n",
       "0  Scroll, scroll, scroll.  Pause.  Scroll back u...       True  t3_dkdml1   \n",
       "1  A lot of the people who felt quite strongly ab...       True  t3_dkdml1   \n",
       "2  T H E   S P H E R E   S H A L L   R I S E   A ...       True  t3_dkdml1   \n",
       "3                       All hail the cube of justice       True  t3_dkdml1   \n",
       "4                                  That is glorious.       True  t3_dkdml1   \n",
       "\n",
       "  submission_id    ups  \n",
       "0        dkdml1  162.0  \n",
       "1        dkdml1   84.0  \n",
       "2        dkdml1   34.0  \n",
       "3        dkdml1    9.0  \n",
       "4        dkdml1    4.0  "
      ]
     },
     "execution_count": 9,
     "metadata": {},
     "output_type": "execute_result"
    }
   ],
   "source": [
    "df.head()"
   ]
  },
  {
   "cell_type": "code",
   "execution_count": 10,
   "metadata": {},
   "outputs": [
    {
     "data": {
      "text/plain": [
       "10002699"
      ]
     },
     "execution_count": 10,
     "metadata": {},
     "output_type": "execute_result"
    }
   ],
   "source": [
    "len(df)"
   ]
  },
  {
   "cell_type": "code",
   "execution_count": 11,
   "metadata": {},
   "outputs": [],
   "source": [
    "# Remove all rows which are deleted or removed\n",
    "df = df.loc[(df['body'] != \"[deleted]\") & (df['body'] != \"[removed]\")]"
   ]
  },
  {
   "cell_type": "code",
   "execution_count": 16,
   "metadata": {},
   "outputs": [
    {
     "data": {
      "text/plain": [
       "9570356"
      ]
     },
     "execution_count": 16,
     "metadata": {},
     "output_type": "execute_result"
    }
   ],
   "source": [
    "len(df)"
   ]
  },
  {
   "cell_type": "code",
   "execution_count": 19,
   "metadata": {},
   "outputs": [],
   "source": [
    "df = df.dropna(subset = [\"body\", \"submission_id\"])"
   ]
  },
  {
   "cell_type": "code",
   "execution_count": 29,
   "metadata": {},
   "outputs": [
    {
     "data": {
      "text/plain": [
       "9568309"
      ]
     },
     "execution_count": 29,
     "metadata": {},
     "output_type": "execute_result"
    }
   ],
   "source": [
    "len(df)"
   ]
  },
  {
   "cell_type": "code",
   "execution_count": 30,
   "metadata": {
    "collapsed": true
   },
   "outputs": [],
   "source": [
    "# Drop Unwanted Column\n",
    "df = df.drop(['Column1'], axis=1)"
   ]
  },
  {
   "cell_type": "code",
   "execution_count": 36,
   "metadata": {
    "collapsed": true
   },
   "outputs": [],
   "source": [
    "def check_comment_stats(df):\n",
    "    total = len(df)\n",
    "    unique_posts = df['submission_id'].nunique()\n",
    "\n",
    "    print(\"-\" * 30)\n",
    "    print(\"Total Comments:\", total)\n",
    "    print(\"-\" * 30)\n",
    "    print(\"Unique Posts with comments:\", unique_posts)\n",
    "    print(\"-\" * 30)\n"
   ]
  },
  {
   "cell_type": "code",
   "execution_count": 37,
   "metadata": {},
   "outputs": [
    {
     "name": "stdout",
     "output_type": "stream",
     "text": [
      "------------------------------\n",
      "Total Comments: 9568309\n",
      "------------------------------\n",
      "Unique Posts with comments: 618777\n",
      "------------------------------\n"
     ]
    }
   ],
   "source": [
    "check_comment_stats(df)"
   ]
  },
  {
   "cell_type": "code",
   "execution_count": 33,
   "metadata": {},
   "outputs": [
    {
     "data": {
      "text/html": [
       "<div>\n",
       "<style>\n",
       "    .dataframe thead tr:only-child th {\n",
       "        text-align: right;\n",
       "    }\n",
       "\n",
       "    .dataframe thead th {\n",
       "        text-align: left;\n",
       "    }\n",
       "\n",
       "    .dataframe tbody tr th {\n",
       "        vertical-align: top;\n",
       "    }\n",
       "</style>\n",
       "<table border=\"1\" class=\"dataframe\">\n",
       "  <thead>\n",
       "    <tr style=\"text-align: right;\">\n",
       "      <th></th>\n",
       "      <th>id</th>\n",
       "      <th>author</th>\n",
       "      <th>body</th>\n",
       "      <th>isTopLevel</th>\n",
       "      <th>parent_id</th>\n",
       "      <th>submission_id</th>\n",
       "      <th>ups</th>\n",
       "    </tr>\n",
       "  </thead>\n",
       "  <tbody>\n",
       "    <tr>\n",
       "      <th>0</th>\n",
       "      <td>f4deplg</td>\n",
       "      <td>Haus42</td>\n",
       "      <td>Scroll, scroll, scroll.  Pause.  Scroll back u...</td>\n",
       "      <td>True</td>\n",
       "      <td>t3_dkdml1</td>\n",
       "      <td>dkdml1</td>\n",
       "      <td>162.0</td>\n",
       "    </tr>\n",
       "    <tr>\n",
       "      <th>1</th>\n",
       "      <td>f4d79bi</td>\n",
       "      <td>PotatoPrince84</td>\n",
       "      <td>A lot of the people who felt quite strongly ab...</td>\n",
       "      <td>True</td>\n",
       "      <td>t3_dkdml1</td>\n",
       "      <td>dkdml1</td>\n",
       "      <td>84.0</td>\n",
       "    </tr>\n",
       "    <tr>\n",
       "      <th>2</th>\n",
       "      <td>f4ddmlk</td>\n",
       "      <td>MadeToAchieveBalance</td>\n",
       "      <td>T H E   S P H E R E   S H A L L   R I S E   A ...</td>\n",
       "      <td>True</td>\n",
       "      <td>t3_dkdml1</td>\n",
       "      <td>dkdml1</td>\n",
       "      <td>34.0</td>\n",
       "    </tr>\n",
       "    <tr>\n",
       "      <th>3</th>\n",
       "      <td>f4dknfn</td>\n",
       "      <td>MrBigRed</td>\n",
       "      <td>All hail the cube of justice</td>\n",
       "      <td>True</td>\n",
       "      <td>t3_dkdml1</td>\n",
       "      <td>dkdml1</td>\n",
       "      <td>9.0</td>\n",
       "    </tr>\n",
       "    <tr>\n",
       "      <th>4</th>\n",
       "      <td>f4dgdur</td>\n",
       "      <td>burritosenior</td>\n",
       "      <td>That is glorious.</td>\n",
       "      <td>True</td>\n",
       "      <td>t3_dkdml1</td>\n",
       "      <td>dkdml1</td>\n",
       "      <td>4.0</td>\n",
       "    </tr>\n",
       "  </tbody>\n",
       "</table>\n",
       "</div>"
      ],
      "text/plain": [
       "        id                author  \\\n",
       "0  f4deplg                Haus42   \n",
       "1  f4d79bi        PotatoPrince84   \n",
       "2  f4ddmlk  MadeToAchieveBalance   \n",
       "3  f4dknfn              MrBigRed   \n",
       "4  f4dgdur         burritosenior   \n",
       "\n",
       "                                                body isTopLevel  parent_id  \\\n",
       "0  Scroll, scroll, scroll.  Pause.  Scroll back u...       True  t3_dkdml1   \n",
       "1  A lot of the people who felt quite strongly ab...       True  t3_dkdml1   \n",
       "2  T H E   S P H E R E   S H A L L   R I S E   A ...       True  t3_dkdml1   \n",
       "3                       All hail the cube of justice       True  t3_dkdml1   \n",
       "4                                  That is glorious.       True  t3_dkdml1   \n",
       "\n",
       "  submission_id    ups  \n",
       "0        dkdml1  162.0  \n",
       "1        dkdml1   84.0  \n",
       "2        dkdml1   34.0  \n",
       "3        dkdml1    9.0  \n",
       "4        dkdml1    4.0  "
      ]
     },
     "execution_count": 33,
     "metadata": {},
     "output_type": "execute_result"
    }
   ],
   "source": [
    "df.head()"
   ]
  },
  {
   "cell_type": "code",
   "execution_count": 34,
   "metadata": {},
   "outputs": [
    {
     "data": {
      "text/plain": [
       "'Scroll, scroll, scroll.  Pause.  Scroll back up.  Check which subreddit this article is in.  Nod in approval.  Upvote.  Continue scrolling.'"
      ]
     },
     "execution_count": 34,
     "metadata": {},
     "output_type": "execute_result"
    }
   ],
   "source": [
    "df.iloc[0]['body']"
   ]
  },
  {
   "cell_type": "code",
   "execution_count": null,
   "metadata": {
    "collapsed": true
   },
   "outputs": [],
   "source": []
  }
 ],
 "metadata": {
  "kernelspec": {
   "display_name": "Python 3",
   "language": "python",
   "name": "python3"
  },
  "language_info": {
   "codemirror_mode": {
    "name": "ipython",
    "version": 3
   },
   "file_extension": ".py",
   "mimetype": "text/x-python",
   "name": "python",
   "nbconvert_exporter": "python",
   "pygments_lexer": "ipython3",
   "version": "3.6.1"
  }
 },
 "nbformat": 4,
 "nbformat_minor": 2
}
