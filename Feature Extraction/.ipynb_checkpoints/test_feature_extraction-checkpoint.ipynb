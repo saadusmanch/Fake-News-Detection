{
 "cells": [
  {
   "cell_type": "code",
   "execution_count": 1,
   "metadata": {},
   "outputs": [
    {
     "name": "stdout",
     "output_type": "stream",
     "text": [
      "D:\\University\\FIT3162\\Project\\Fake-News-Detection\\Feature Extraction\n"
     ]
    }
   ],
   "source": [
    "cd \"D:\\University\\FIT3162\\Project\\Fake-News-Detection\\Feature Extraction\""
   ]
  },
  {
   "cell_type": "code",
   "execution_count": null,
   "metadata": {},
   "outputs": [],
   "source": []
  },
  {
   "cell_type": "code",
   "execution_count": 40,
   "metadata": {},
   "outputs": [],
   "source": [
    "import unittest\n",
    "import pytest\n",
    "import pandas as pd\n",
    "import numpy as np\n",
    "import import_ipynb\n",
    "from feature_extraction import FeatureExtraction\n",
    "from pandas.testing import assert_frame_equal"
   ]
  },
  {
   "cell_type": "code",
   "execution_count": 41,
   "metadata": {},
   "outputs": [],
   "source": [
    "# feature = FeatureExtraction()\n",
    "# feature.read_datasets()"
   ]
  },
  {
   "cell_type": "code",
   "execution_count": 42,
   "metadata": {},
   "outputs": [],
   "source": [
    "class TestFeatureExtraction(unittest.TestCase):\n",
    "    \n",
    "    def test_read_datasets(self):\n",
    "        feature = FeatureExtraction()\n",
    "\n",
    "        expected_posts = pd.read_csv('cleaned_df.csv')\n",
    "        expected_comments = pd.read_csv('cleaned_comments.csv')\n",
    "\n",
    "        feature.read_datasets()\n",
    "\n",
    "        result_posts = feature.get_post_dataset()\n",
    "        result_comments = feature.get_comment_dataset()\n",
    "        \n",
    "\n",
    "        expected_rows_posts = len(expected_posts.index)\n",
    "        result_rows_posts = len(result_posts.index)\n",
    "        \n",
    "        expected_rows_comments = len(expected_comments.index)\n",
    "        result_rows_comments = len(result_comments.index)\n",
    "  \n",
    "        self.assertEqual(expected_rows_posts, result_rows_posts)\n",
    "        self.assertEqual(expected_rows_comments, result_rows_comments)\n",
    "        \n",
    "#     def test_cmnt_sentiment_column(self):\n",
    "#         feature.filter_comments()\n",
    "#         feature.build_comment_score()\n",
    "#         feature.cmnt_sentiment_column()\n",
    "        \n",
    "#     def test_post_sentiment_column(self):\n",
    "#         feature.post_sentiment_column()\n",
    "        \n",
    "    "
   ]
  },
  {
   "cell_type": "code",
   "execution_count": 19,
   "metadata": {},
   "outputs": [],
   "source": []
  },
  {
   "cell_type": "code",
   "execution_count": 27,
   "metadata": {},
   "outputs": [],
   "source": [
    "feature.filter_comments()\n",
    "feature.build_comment_score()\n",
    "feature.cmnt_sentiment_column()"
   ]
  },
  {
   "cell_type": "code",
   "execution_count": null,
   "metadata": {},
   "outputs": [],
   "source": [
    "feature.get_post_dataset()"
   ]
  },
  {
   "cell_type": "code",
   "execution_count": 30,
   "metadata": {},
   "outputs": [],
   "source": [
    "feature.feature.post_sentiment_column()"
   ]
  },
  {
   "cell_type": "code",
   "execution_count": null,
   "metadata": {},
   "outputs": [],
   "source": [
    "feature.get_post_dataset()"
   ]
  },
  {
   "cell_type": "code",
   "execution_count": null,
   "metadata": {},
   "outputs": [],
   "source": []
  },
  {
   "cell_type": "code",
   "execution_count": 43,
   "metadata": {},
   "outputs": [
    {
     "name": "stderr",
     "output_type": "stream",
     "text": [
      ".\n",
      "----------------------------------------------------------------------\n",
      "Ran 1 test in 0.017s\n",
      "\n",
      "OK\n"
     ]
    }
   ],
   "source": [
    "if __name__ == '__main__':\n",
    "    unittest.main(argv=['first-arg-is-ignored for jupyter'], exit=False)"
   ]
  },
  {
   "cell_type": "code",
   "execution_count": null,
   "metadata": {},
   "outputs": [],
   "source": []
  }
 ],
 "metadata": {
  "kernelspec": {
   "display_name": "Python 3",
   "language": "python",
   "name": "python3"
  },
  "language_info": {
   "codemirror_mode": {
    "name": "ipython",
    "version": 3
   },
   "file_extension": ".py",
   "mimetype": "text/x-python",
   "name": "python",
   "nbconvert_exporter": "python",
   "pygments_lexer": "ipython3",
   "version": "3.7.6"
  }
 },
 "nbformat": 4,
 "nbformat_minor": 4
}
