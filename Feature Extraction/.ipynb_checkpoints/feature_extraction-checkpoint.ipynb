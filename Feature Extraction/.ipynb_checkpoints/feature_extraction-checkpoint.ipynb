{
 "cells": [
  {
   "cell_type": "code",
   "execution_count": 78,
   "metadata": {
    "collapsed": true
   },
   "outputs": [],
   "source": [
    "import pandas as pd\n",
    "import numpy as np"
   ]
  },
  {
   "cell_type": "code",
   "execution_count": 79,
   "metadata": {},
   "outputs": [
    {
     "name": "stdout",
     "output_type": "stream",
     "text": [
      "d:\\Semester 6\\FIT3162\\Fakeddit\n"
     ]
    }
   ],
   "source": [
    "cd \"d:/Semester 6/FIT3162/Fakeddit\""
   ]
  },
  {
   "cell_type": "code",
   "execution_count": 80,
   "metadata": {},
   "outputs": [
    {
     "data": {
      "text/plain": [
       "54709"
      ]
     },
     "execution_count": 80,
     "metadata": {},
     "output_type": "execute_result"
    }
   ],
   "source": [
    "post_df = pd.read_csv(\"cleaned_df.csv\", index_col=0)\n",
    "len(post_df)"
   ]
  },
  {
   "cell_type": "code",
   "execution_count": 5,
   "metadata": {},
   "outputs": [
    {
     "name": "stderr",
     "output_type": "stream",
     "text": [
      "C:\\Users\\saadu\\Anaconda3\\lib\\site-packages\\numpy\\lib\\arraysetops.py:395: FutureWarning: elementwise comparison failed; returning scalar instead, but in the future will perform elementwise comparison\n",
      "  mask |= (ar1 == a)\n"
     ]
    },
    {
     "data": {
      "text/plain": [
       "4428085"
      ]
     },
     "execution_count": 5,
     "metadata": {},
     "output_type": "execute_result"
    }
   ],
   "source": [
    "comment_df = pd.read_csv(\"cleaned_comments.csv\", index_col=0)\n",
    "len(comment_df)"
   ]
  },
  {
   "cell_type": "code",
   "execution_count": 81,
   "metadata": {
    "collapsed": true
   },
   "outputs": [],
   "source": [
    "post_df = post_df.sample(10000, random_state = 123).reset_index(drop=True)"
   ]
  },
  {
   "cell_type": "code",
   "execution_count": 82,
   "metadata": {},
   "outputs": [
    {
     "data": {
      "text/plain": [
       "5194"
      ]
     },
     "execution_count": 82,
     "metadata": {},
     "output_type": "execute_result"
    }
   ],
   "source": [
    "len(post_df.loc[post_df['2_way_label'] == 0])"
   ]
  },
  {
   "cell_type": "code",
   "execution_count": 8,
   "metadata": {
    "collapsed": true
   },
   "outputs": [],
   "source": [
    "def filter_comments(df, ids):\n",
    "    df = df[df['submission_id'].isin(ids)]\n",
    "    df = df.reset_index(drop=True)\n",
    "    return df"
   ]
  },
  {
   "cell_type": "code",
   "execution_count": 9,
   "metadata": {
    "collapsed": true
   },
   "outputs": [],
   "source": [
    "ids = post_df.id.unique()\n",
    "com_df = filter_comments(comment_df, ids)"
   ]
  },
  {
   "cell_type": "code",
   "execution_count": 10,
   "metadata": {
    "collapsed": true
   },
   "outputs": [],
   "source": [
    "# Domain Rank\n",
    "def get_alexa_ranking(url):\n",
    "    \"\"\"\n",
    "    Get Alexa ranking\n",
    "    \n",
    "    \"\"\"\n",
    "    from bs4 import BeautifulSoup\n",
    "    import urllib.request\n",
    "#     url='9news.com.au'\n",
    "    rank_str =BeautifulSoup(urllib.request.urlopen(\"https://www.alexa.com/minisiteinfo/\" +url),'html.parser').table.a.get_text()\n",
    "    try:    \n",
    "        rank_int=int(rank_str.replace(',',''))\n",
    "    except:\n",
    "        rank_int = 1000001\n",
    "    return rank_int"
   ]
  },
  {
   "cell_type": "code",
   "execution_count": 11,
   "metadata": {
    "collapsed": true
   },
   "outputs": [],
   "source": [
    "def comment_score_table(df):\n",
    "    \"\"\"\n",
    "    \"\"\"\n",
    "    comment_scores = {}\n",
    "\n",
    "    #creating hashtables with post id as key\n",
    "    for ind in df.index:\n",
    "        # hastable for score of comments\n",
    "        comment_scores[df['id'][ind]] = [0, 0]\n",
    "    return comment_scores"
   ]
  },
  {
   "cell_type": "code",
   "execution_count": 65,
   "metadata": {},
   "outputs": [
    {
     "name": "stdout",
     "output_type": "stream",
     "text": [
      "c:\\Users\\saadu\n"
     ]
    }
   ],
   "source": [
    "cd \"c:/Users/saadu\""
   ]
  },
  {
   "cell_type": "code",
   "execution_count": null,
   "metadata": {
    "collapsed": true
   },
   "outputs": [],
   "source": [
    "import sentiment\n",
    "comment_score = comment_score_table(post_df)\n",
    "sentiment.build_comment_dictionary(com_df, comment_scores)"
   ]
  },
  {
   "cell_type": "code",
   "execution_count": 75,
   "metadata": {},
   "outputs": [],
   "source": [
    "from nltk import tokenize\n",
    "from vaderSentiment.vaderSentiment import SentimentIntensityAnalyzer\n",
    "analyser = SentimentIntensityAnalyzer()\n",
    "def post_sentiment(post):\n",
    "    sentiment_score = analyser.polarity_scores(post)[\"compound\"]\n",
    "    return sentiment_score\n",
    "post_df['post_sentiment'] = post_df.apply(lambda x: post_sentiment(x['title']), axis=1)"
   ]
  },
  {
   "cell_type": "code",
   "execution_count": 28,
   "metadata": {
    "collapsed": true
   },
   "outputs": [],
   "source": [
    "# comment_scores = {}\n",
    "\n",
    "# #creating hashtables with post id as key\n",
    "# for ind in post_df.index:\n",
    "#     # hastable for score of comments\n",
    "#     comment_scores[post_df['id'][ind]] = [0, 0]"
   ]
  },
  {
   "cell_type": "code",
   "execution_count": 41,
   "metadata": {},
   "outputs": [
    {
     "data": {
      "text/plain": [
       "10000"
      ]
     },
     "execution_count": 41,
     "metadata": {},
     "output_type": "execute_result"
    }
   ],
   "source": [
    "len(comment_scores)"
   ]
  },
  {
   "cell_type": "code",
   "execution_count": null,
   "metadata": {
    "collapsed": true
   },
   "outputs": [],
   "source": [
    "temp = list(comment_scores.values())"
   ]
  },
  {
   "cell_type": "code",
   "execution_count": null,
   "metadata": {
    "collapsed": true
   },
   "outputs": [],
   "source": [
    "score = [x[0]/x[1] if x[1] > 0 else x[1] for x in temp]\n",
    "num_comments = [x[1] for x in temp]"
   ]
  },
  {
   "cell_type": "code",
   "execution_count": 42,
   "metadata": {
    "collapsed": true
   },
   "outputs": [],
   "source": [
    "post_df[\"num_comments\"] = num_comments\n",
    "post_df[\"comment_sentiment\"] = score"
   ]
  },
  {
   "cell_type": "code",
   "execution_count": 43,
   "metadata": {},
   "outputs": [
    {
     "data": {
      "text/html": [
       "<div>\n",
       "<style>\n",
       "    .dataframe thead tr:only-child th {\n",
       "        text-align: right;\n",
       "    }\n",
       "\n",
       "    .dataframe thead th {\n",
       "        text-align: left;\n",
       "    }\n",
       "\n",
       "    .dataframe tbody tr th {\n",
       "        vertical-align: top;\n",
       "    }\n",
       "</style>\n",
       "<table border=\"1\" class=\"dataframe\">\n",
       "  <thead>\n",
       "    <tr style=\"text-align: right;\">\n",
       "      <th></th>\n",
       "      <th>clean_title</th>\n",
       "      <th>created_utc</th>\n",
       "      <th>domain</th>\n",
       "      <th>id</th>\n",
       "      <th>num_comments</th>\n",
       "      <th>score</th>\n",
       "      <th>subreddit</th>\n",
       "      <th>title</th>\n",
       "      <th>2_way_label</th>\n",
       "      <th>comment_sentiment</th>\n",
       "    </tr>\n",
       "  </thead>\n",
       "  <tbody>\n",
       "    <tr>\n",
       "      <th>0</th>\n",
       "      <td>can i still cash in my brain needs to rest</td>\n",
       "      <td>2017-06-17 12:58:22</td>\n",
       "      <td>self.SubredditSimulator</td>\n",
       "      <td>6hrnqx</td>\n",
       "      <td>20</td>\n",
       "      <td>17</td>\n",
       "      <td>subredditsimulator</td>\n",
       "      <td>Can I still cash in my brain needs to rest</td>\n",
       "      <td>0</td>\n",
       "      <td>-0.034000</td>\n",
       "    </tr>\n",
       "    <tr>\n",
       "      <th>1</th>\n",
       "      <td>how did the wheat say to its son photoshop</td>\n",
       "      <td>2019-07-27 18:58:22</td>\n",
       "      <td>self.SubredditSimulator</td>\n",
       "      <td>cig6ey</td>\n",
       "      <td>20</td>\n",
       "      <td>3</td>\n",
       "      <td>subredditsimulator</td>\n",
       "      <td>How did the wheat say to its son Photoshop?</td>\n",
       "      <td>0</td>\n",
       "      <td>0.196715</td>\n",
       "    </tr>\n",
       "    <tr>\n",
       "      <th>2</th>\n",
       "      <td>woman stabbed times by exboyfriend marries fir...</td>\n",
       "      <td>2017-04-03 00:18:14</td>\n",
       "      <td>wreg.com</td>\n",
       "      <td>630i9h</td>\n",
       "      <td>341</td>\n",
       "      <td>6056</td>\n",
       "      <td>upliftingnews</td>\n",
       "      <td>Woman stabbed 32 times by ex-boyfriend marries...</td>\n",
       "      <td>1</td>\n",
       "      <td>-0.010819</td>\n",
       "    </tr>\n",
       "    <tr>\n",
       "      <th>3</th>\n",
       "      <td>but ayahuasca a hallucinogenic concoction that...</td>\n",
       "      <td>2018-03-13 09:58:33</td>\n",
       "      <td>self.SubredditSimulator</td>\n",
       "      <td>840mn2</td>\n",
       "      <td>20</td>\n",
       "      <td>6</td>\n",
       "      <td>subredditsimulator</td>\n",
       "      <td>But ayahuasca, a hallucinogenic concoction tha...</td>\n",
       "      <td>0</td>\n",
       "      <td>-0.027900</td>\n",
       "    </tr>\n",
       "    <tr>\n",
       "      <th>4</th>\n",
       "      <td>donald trump tells droughtstricken california ...</td>\n",
       "      <td>2016-05-28 10:34:11</td>\n",
       "      <td>time.com</td>\n",
       "      <td>4le28i</td>\n",
       "      <td>467</td>\n",
       "      <td>18434</td>\n",
       "      <td>nottheonion</td>\n",
       "      <td>Donald Trump Tells Drought-stricken California...</td>\n",
       "      <td>1</td>\n",
       "      <td>0.013547</td>\n",
       "    </tr>\n",
       "  </tbody>\n",
       "</table>\n",
       "</div>"
      ],
      "text/plain": [
       "                                         clean_title          created_utc  \\\n",
       "0         can i still cash in my brain needs to rest  2017-06-17 12:58:22   \n",
       "1         how did the wheat say to its son photoshop  2019-07-27 18:58:22   \n",
       "2  woman stabbed times by exboyfriend marries fir...  2017-04-03 00:18:14   \n",
       "3  but ayahuasca a hallucinogenic concoction that...  2018-03-13 09:58:33   \n",
       "4  donald trump tells droughtstricken california ...  2016-05-28 10:34:11   \n",
       "\n",
       "                    domain      id  num_comments  score           subreddit  \\\n",
       "0  self.SubredditSimulator  6hrnqx            20     17  subredditsimulator   \n",
       "1  self.SubredditSimulator  cig6ey            20      3  subredditsimulator   \n",
       "2                 wreg.com  630i9h           341   6056       upliftingnews   \n",
       "3  self.SubredditSimulator  840mn2            20      6  subredditsimulator   \n",
       "4                 time.com  4le28i           467  18434         nottheonion   \n",
       "\n",
       "                                               title  2_way_label  \\\n",
       "0         Can I still cash in my brain needs to rest            0   \n",
       "1        How did the wheat say to its son Photoshop?            0   \n",
       "2  Woman stabbed 32 times by ex-boyfriend marries...            1   \n",
       "3  But ayahuasca, a hallucinogenic concoction tha...            0   \n",
       "4  Donald Trump Tells Drought-stricken California...            1   \n",
       "\n",
       "   comment_sentiment  \n",
       "0          -0.034000  \n",
       "1           0.196715  \n",
       "2          -0.010819  \n",
       "3          -0.027900  \n",
       "4           0.013547  "
      ]
     },
     "execution_count": 43,
     "metadata": {},
     "output_type": "execute_result"
    }
   ],
   "source": [
    "post_df.head()"
   ]
  },
  {
   "cell_type": "code",
   "execution_count": 34,
   "metadata": {},
   "outputs": [],
   "source": [
    "# from multiprocess import Pool, Manager\n",
    "# import sentiment\n",
    "# if __name__ == '__main__':\n",
    "#     print(\"Feature Extraction\")\n",
    "#     num_processors = 6\n",
    "#     pool = Pool(processes = num_processors)\n",
    "    \n",
    "#     manager = Manager()\n",
    "#     mgr_score = manager.dict()\n",
    "#     mgr_score.update(comment_scores)\n",
    "#     df_split = np.array_split(comment_df, num_processors)\n",
    "#     for data in df_split:\n",
    "#         pool.apply_async(sentiment.build_comment_dictionary, args = (data, mgr_score, ))\n",
    "#         print(\"done\")\n",
    "#     pool.close()\n",
    "#     pool.join()"
   ]
  },
  {
   "cell_type": "code",
   "execution_count": 50,
   "metadata": {},
   "outputs": [],
   "source": [
    "# https://www.kaggle.com/cheedcheed/top1m\n",
    "# https://github.com/mozilla/cipherscan/tree/master/top1m\n",
    "import re\n",
    "from urllib.parse import urlparse\n",
    "import os\n",
    "import zipfile\n",
    "\n",
    "class Alexa:\n",
    "    '''\n",
    "    this class provides access to the Alexa ranking of URLs\n",
    "    usage: create a new instance of this class (ranker = Alexa()) and use the get_rank method\n",
    "    '''\n",
    "    __domain_list = []\n",
    "    \n",
    "    def __init__(self):\n",
    "        try:\n",
    "            # read the alexa ranking\n",
    "            f_csv = open('top-1m.csv/top-1m.csv')\n",
    "            csv_data = f_csv.read()\n",
    "            f_csv.close()\n",
    "            lines = csv_data.split(\"\\n\")\n",
    "            for line in lines:\n",
    "                try:\n",
    "                    url = line.split(\",\")[1]\n",
    "                    url = re.sub('^www\\.', '', url)\n",
    "                    self.__domain_list.append(url)\n",
    "                except:\n",
    "                    continue\n",
    "        except:\n",
    "            raise\n",
    "        \n",
    "    def get_rank(self, url):\n",
    "        ''' getrank returns the alexa rank of the domain of the given URL, or -1 if it is over 1M'''\n",
    "        parsed_url = urlparse(url)\n",
    "        if parsed_url.scheme == '':\n",
    "            return self.get_rank('http://'+url)\n",
    "        domain = parsed_url.netloc\n",
    "        domain = re.sub('^www\\.', '', domain)\n",
    "        if domain in self.__domain_list:\n",
    "            return self.__domain_list.index(domain)+1   \n",
    "        return 1000001"
   ]
  },
  {
   "cell_type": "code",
   "execution_count": 51,
   "metadata": {},
   "outputs": [],
   "source": [
    "alexa = Alexa()"
   ]
  },
  {
   "cell_type": "code",
   "execution_count": 52,
   "metadata": {},
   "outputs": [
    {
     "data": {
      "text/plain": [
       "1801"
      ]
     },
     "execution_count": 52,
     "metadata": {},
     "output_type": "execute_result"
    }
   ],
   "source": [
    "len(post_df['domain'].unique())"
   ]
  },
  {
   "cell_type": "code",
   "execution_count": 53,
   "metadata": {
    "collapsed": true
   },
   "outputs": [],
   "source": [
    "def add_domain_rank(df):\n",
    "    alexa = Alexa()\n",
    "    df['domain_rank'] = df.apply(lambda x: alexa.get_rank(x['domain']), axis=1)\n",
    "    return df"
   ]
  },
  {
   "cell_type": "code",
   "execution_count": 54,
   "metadata": {},
   "outputs": [
    {
     "data": {
      "text/plain": [
       "135"
      ]
     },
     "execution_count": 54,
     "metadata": {},
     "output_type": "execute_result"
    }
   ],
   "source": [
    "alexa.get_rank('www.cnn.com')"
   ]
  },
  {
   "cell_type": "code",
   "execution_count": 55,
   "metadata": {},
   "outputs": [],
   "source": [
    "post_df = add_domain_rank(post_df)"
   ]
  },
  {
   "cell_type": "code",
   "execution_count": 56,
   "metadata": {},
   "outputs": [
    {
     "data": {
      "text/plain": [
       "10000"
      ]
     },
     "execution_count": 56,
     "metadata": {},
     "output_type": "execute_result"
    }
   ],
   "source": [
    "len(post_df)"
   ]
  },
  {
   "cell_type": "code",
   "execution_count": 76,
   "metadata": {},
   "outputs": [
    {
     "data": {
      "text/html": [
       "<div>\n",
       "<style>\n",
       "    .dataframe thead tr:only-child th {\n",
       "        text-align: right;\n",
       "    }\n",
       "\n",
       "    .dataframe thead th {\n",
       "        text-align: left;\n",
       "    }\n",
       "\n",
       "    .dataframe tbody tr th {\n",
       "        vertical-align: top;\n",
       "    }\n",
       "</style>\n",
       "<table border=\"1\" class=\"dataframe\">\n",
       "  <thead>\n",
       "    <tr style=\"text-align: right;\">\n",
       "      <th></th>\n",
       "      <th>clean_title</th>\n",
       "      <th>created_utc</th>\n",
       "      <th>domain</th>\n",
       "      <th>id</th>\n",
       "      <th>num_comments</th>\n",
       "      <th>score</th>\n",
       "      <th>subreddit</th>\n",
       "      <th>title</th>\n",
       "      <th>2_way_label</th>\n",
       "      <th>comment_sentiment</th>\n",
       "      <th>domain_rank</th>\n",
       "      <th>post_sentiment</th>\n",
       "    </tr>\n",
       "  </thead>\n",
       "  <tbody>\n",
       "    <tr>\n",
       "      <th>0</th>\n",
       "      <td>can i still cash in my brain needs to rest</td>\n",
       "      <td>2017-06-17 12:58:22</td>\n",
       "      <td>self.SubredditSimulator</td>\n",
       "      <td>6hrnqx</td>\n",
       "      <td>20</td>\n",
       "      <td>17</td>\n",
       "      <td>subredditsimulator</td>\n",
       "      <td>Can I still cash in my brain needs to rest</td>\n",
       "      <td>0</td>\n",
       "      <td>-0.034000</td>\n",
       "      <td>1000001</td>\n",
       "      <td>0.0000</td>\n",
       "    </tr>\n",
       "    <tr>\n",
       "      <th>1</th>\n",
       "      <td>how did the wheat say to its son photoshop</td>\n",
       "      <td>2019-07-27 18:58:22</td>\n",
       "      <td>self.SubredditSimulator</td>\n",
       "      <td>cig6ey</td>\n",
       "      <td>20</td>\n",
       "      <td>3</td>\n",
       "      <td>subredditsimulator</td>\n",
       "      <td>How did the wheat say to its son Photoshop?</td>\n",
       "      <td>0</td>\n",
       "      <td>0.196715</td>\n",
       "      <td>1000001</td>\n",
       "      <td>0.0000</td>\n",
       "    </tr>\n",
       "    <tr>\n",
       "      <th>2</th>\n",
       "      <td>woman stabbed times by exboyfriend marries fir...</td>\n",
       "      <td>2017-04-03 00:18:14</td>\n",
       "      <td>wreg.com</td>\n",
       "      <td>630i9h</td>\n",
       "      <td>341</td>\n",
       "      <td>6056</td>\n",
       "      <td>upliftingnews</td>\n",
       "      <td>Woman stabbed 32 times by ex-boyfriend marries...</td>\n",
       "      <td>1</td>\n",
       "      <td>-0.010819</td>\n",
       "      <td>1000001</td>\n",
       "      <td>-0.0258</td>\n",
       "    </tr>\n",
       "    <tr>\n",
       "      <th>3</th>\n",
       "      <td>but ayahuasca a hallucinogenic concoction that...</td>\n",
       "      <td>2018-03-13 09:58:33</td>\n",
       "      <td>self.SubredditSimulator</td>\n",
       "      <td>840mn2</td>\n",
       "      <td>20</td>\n",
       "      <td>6</td>\n",
       "      <td>subredditsimulator</td>\n",
       "      <td>But ayahuasca, a hallucinogenic concoction tha...</td>\n",
       "      <td>0</td>\n",
       "      <td>-0.027900</td>\n",
       "      <td>1000001</td>\n",
       "      <td>-0.6956</td>\n",
       "    </tr>\n",
       "    <tr>\n",
       "      <th>4</th>\n",
       "      <td>donald trump tells droughtstricken california ...</td>\n",
       "      <td>2016-05-28 10:34:11</td>\n",
       "      <td>time.com</td>\n",
       "      <td>4le28i</td>\n",
       "      <td>467</td>\n",
       "      <td>18434</td>\n",
       "      <td>nottheonion</td>\n",
       "      <td>Donald Trump Tells Drought-stricken California...</td>\n",
       "      <td>1</td>\n",
       "      <td>0.013547</td>\n",
       "      <td>1259</td>\n",
       "      <td>-0.2960</td>\n",
       "    </tr>\n",
       "  </tbody>\n",
       "</table>\n",
       "</div>"
      ],
      "text/plain": [
       "                                         clean_title          created_utc  \\\n",
       "0         can i still cash in my brain needs to rest  2017-06-17 12:58:22   \n",
       "1         how did the wheat say to its son photoshop  2019-07-27 18:58:22   \n",
       "2  woman stabbed times by exboyfriend marries fir...  2017-04-03 00:18:14   \n",
       "3  but ayahuasca a hallucinogenic concoction that...  2018-03-13 09:58:33   \n",
       "4  donald trump tells droughtstricken california ...  2016-05-28 10:34:11   \n",
       "\n",
       "                    domain      id  num_comments  score           subreddit  \\\n",
       "0  self.SubredditSimulator  6hrnqx            20     17  subredditsimulator   \n",
       "1  self.SubredditSimulator  cig6ey            20      3  subredditsimulator   \n",
       "2                 wreg.com  630i9h           341   6056       upliftingnews   \n",
       "3  self.SubredditSimulator  840mn2            20      6  subredditsimulator   \n",
       "4                 time.com  4le28i           467  18434         nottheonion   \n",
       "\n",
       "                                               title  2_way_label  \\\n",
       "0         Can I still cash in my brain needs to rest            0   \n",
       "1        How did the wheat say to its son Photoshop?            0   \n",
       "2  Woman stabbed 32 times by ex-boyfriend marries...            1   \n",
       "3  But ayahuasca, a hallucinogenic concoction tha...            0   \n",
       "4  Donald Trump Tells Drought-stricken California...            1   \n",
       "\n",
       "   comment_sentiment  domain_rank  post_sentiment  \n",
       "0          -0.034000      1000001          0.0000  \n",
       "1           0.196715      1000001          0.0000  \n",
       "2          -0.010819      1000001         -0.0258  \n",
       "3          -0.027900      1000001         -0.6956  \n",
       "4           0.013547         1259         -0.2960  "
      ]
     },
     "execution_count": 76,
     "metadata": {},
     "output_type": "execute_result"
    }
   ],
   "source": [
    "post_df.head()"
   ]
  },
  {
   "cell_type": "code",
   "execution_count": 89,
   "metadata": {},
   "outputs": [],
   "source": [
    "post_df.to_csv('dataset.csv', encoding='utf-8-sig')"
   ]
  },
  {
   "cell_type": "code",
   "execution_count": 84,
   "metadata": {},
   "outputs": [],
   "source": []
  },
  {
   "cell_type": "code",
   "execution_count": 87,
   "metadata": {},
   "outputs": [],
   "source": []
  },
  {
   "cell_type": "code",
   "execution_count": null,
   "metadata": {},
   "outputs": [],
   "source": []
  },
  {
   "cell_type": "code",
   "execution_count": null,
   "metadata": {},
   "outputs": [],
   "source": []
  },
  {
   "cell_type": "code",
   "execution_count": null,
   "metadata": {
    "collapsed": true
   },
   "outputs": [],
   "source": []
  }
 ],
 "metadata": {
  "kernelspec": {
   "display_name": "Python 3",
   "language": "python",
   "name": "python3"
  },
  "language_info": {
   "codemirror_mode": {
    "name": "ipython",
    "version": 3
   },
   "file_extension": ".py",
   "mimetype": "text/x-python",
   "name": "python",
   "nbconvert_exporter": "python",
   "pygments_lexer": "ipython3",
   "version": "3.7.6"
  }
 },
 "nbformat": 4,
 "nbformat_minor": 2
}
